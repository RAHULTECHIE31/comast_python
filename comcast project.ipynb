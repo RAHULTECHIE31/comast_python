{
 "cells": [
  {
   "cell_type": "markdown",
   "metadata": {},
   "source": [
    "## Importing necessary python packages and libraries"
   ]
  },
  {
   "cell_type": "code",
   "execution_count": 1,
   "metadata": {},
   "outputs": [],
   "source": [
    "import numpy as np\n",
    "import pandas as pd\n",
    "import seaborn as sns\n",
    "import matplotlib as mpl\n",
    "import matplotlib.pyplot as plt\n",
    "%matplotlib inline"
   ]
  },
  {
   "cell_type": "markdown",
   "metadata": {},
   "source": [
    "## TASK-1 : Importing the data set and performing exploratory data analysis"
   ]
  },
  {
   "cell_type": "code",
   "execution_count": 2,
   "metadata": {},
   "outputs": [],
   "source": [
    "df = pd.read_csv(\"Comcast_telecom_complaints_data.csv\")  #Loading data into python environment as DataFrame."
   ]
  },
  {
   "cell_type": "code",
   "execution_count": 3,
   "metadata": {},
   "outputs": [
    {
     "data": {
      "text/plain": [
       "pandas.core.frame.DataFrame"
      ]
     },
     "execution_count": 3,
     "metadata": {},
     "output_type": "execute_result"
    }
   ],
   "source": [
    "type(df)"
   ]
  },
  {
   "cell_type": "code",
   "execution_count": 4,
   "metadata": {},
   "outputs": [
    {
     "data": {
      "text/plain": [
       "(2224, 11)"
      ]
     },
     "execution_count": 4,
     "metadata": {},
     "output_type": "execute_result"
    }
   ],
   "source": [
    "df.shape     #shows no. of rows and coloumns present in the dataframe, i.e, there are 11 variables with 2224 observation in each variables."
   ]
  },
  {
   "cell_type": "code",
   "execution_count": 5,
   "metadata": {},
   "outputs": [
    {
     "data": {
      "text/plain": [
       "Ticket #                       object\n",
       "Customer Complaint             object\n",
       "Date                           object\n",
       "Date_month_year                object\n",
       "Time                           object\n",
       "Received Via                   object\n",
       "City                           object\n",
       "State                          object\n",
       "Zip code                        int64\n",
       "Status                         object\n",
       "Filing on Behalf of Someone    object\n",
       "dtype: object"
      ]
     },
     "execution_count": 5,
     "metadata": {},
     "output_type": "execute_result"
    }
   ],
   "source": [
    "df.dtypes    #shows the datatype of all variables/coloumns"
   ]
  },
  {
   "cell_type": "code",
   "execution_count": 6,
   "metadata": {},
   "outputs": [],
   "source": [
    "#From above we can infer that there is just one variable with numeric data type and other as object/categorical data type."
   ]
  },
  {
   "cell_type": "code",
   "execution_count": 7,
   "metadata": {},
   "outputs": [
    {
     "data": {
      "text/html": [
       "<div>\n",
       "<style scoped>\n",
       "    .dataframe tbody tr th:only-of-type {\n",
       "        vertical-align: middle;\n",
       "    }\n",
       "\n",
       "    .dataframe tbody tr th {\n",
       "        vertical-align: top;\n",
       "    }\n",
       "\n",
       "    .dataframe thead th {\n",
       "        text-align: right;\n",
       "    }\n",
       "</style>\n",
       "<table border=\"1\" class=\"dataframe\">\n",
       "  <thead>\n",
       "    <tr style=\"text-align: right;\">\n",
       "      <th></th>\n",
       "      <th>Ticket #</th>\n",
       "      <th>Customer Complaint</th>\n",
       "      <th>Date</th>\n",
       "      <th>Date_month_year</th>\n",
       "      <th>Time</th>\n",
       "      <th>Received Via</th>\n",
       "      <th>City</th>\n",
       "      <th>State</th>\n",
       "      <th>Zip code</th>\n",
       "      <th>Status</th>\n",
       "      <th>Filing on Behalf of Someone</th>\n",
       "    </tr>\n",
       "  </thead>\n",
       "  <tbody>\n",
       "    <tr>\n",
       "      <th>0</th>\n",
       "      <td>250635</td>\n",
       "      <td>Comcast Cable Internet Speeds</td>\n",
       "      <td>22-04-15</td>\n",
       "      <td>22-Apr-15</td>\n",
       "      <td>3:53:50 PM</td>\n",
       "      <td>Customer Care Call</td>\n",
       "      <td>Abingdon</td>\n",
       "      <td>Maryland</td>\n",
       "      <td>21009</td>\n",
       "      <td>Closed</td>\n",
       "      <td>No</td>\n",
       "    </tr>\n",
       "    <tr>\n",
       "      <th>1</th>\n",
       "      <td>223441</td>\n",
       "      <td>Payment disappear - service got disconnected</td>\n",
       "      <td>04-08-15</td>\n",
       "      <td>04-Aug-15</td>\n",
       "      <td>10:22:56 AM</td>\n",
       "      <td>Internet</td>\n",
       "      <td>Acworth</td>\n",
       "      <td>Georgia</td>\n",
       "      <td>30102</td>\n",
       "      <td>Closed</td>\n",
       "      <td>No</td>\n",
       "    </tr>\n",
       "    <tr>\n",
       "      <th>2</th>\n",
       "      <td>242732</td>\n",
       "      <td>Speed and Service</td>\n",
       "      <td>18-04-15</td>\n",
       "      <td>18-Apr-15</td>\n",
       "      <td>9:55:47 AM</td>\n",
       "      <td>Internet</td>\n",
       "      <td>Acworth</td>\n",
       "      <td>Georgia</td>\n",
       "      <td>30101</td>\n",
       "      <td>Closed</td>\n",
       "      <td>Yes</td>\n",
       "    </tr>\n",
       "    <tr>\n",
       "      <th>3</th>\n",
       "      <td>277946</td>\n",
       "      <td>Comcast Imposed a New Usage Cap of 300GB that ...</td>\n",
       "      <td>05-07-15</td>\n",
       "      <td>05-Jul-15</td>\n",
       "      <td>11:59:35 AM</td>\n",
       "      <td>Internet</td>\n",
       "      <td>Acworth</td>\n",
       "      <td>Georgia</td>\n",
       "      <td>30101</td>\n",
       "      <td>Open</td>\n",
       "      <td>Yes</td>\n",
       "    </tr>\n",
       "    <tr>\n",
       "      <th>4</th>\n",
       "      <td>307175</td>\n",
       "      <td>Comcast not working and no service to boot</td>\n",
       "      <td>26-05-15</td>\n",
       "      <td>26-May-15</td>\n",
       "      <td>1:25:26 PM</td>\n",
       "      <td>Internet</td>\n",
       "      <td>Acworth</td>\n",
       "      <td>Georgia</td>\n",
       "      <td>30101</td>\n",
       "      <td>Solved</td>\n",
       "      <td>No</td>\n",
       "    </tr>\n",
       "  </tbody>\n",
       "</table>\n",
       "</div>"
      ],
      "text/plain": [
       "  Ticket #                                 Customer Complaint      Date  \\\n",
       "0   250635                      Comcast Cable Internet Speeds  22-04-15   \n",
       "1   223441       Payment disappear - service got disconnected  04-08-15   \n",
       "2   242732                                  Speed and Service  18-04-15   \n",
       "3   277946  Comcast Imposed a New Usage Cap of 300GB that ...  05-07-15   \n",
       "4   307175         Comcast not working and no service to boot  26-05-15   \n",
       "\n",
       "  Date_month_year         Time        Received Via      City     State  \\\n",
       "0       22-Apr-15   3:53:50 PM  Customer Care Call  Abingdon  Maryland   \n",
       "1       04-Aug-15  10:22:56 AM            Internet   Acworth   Georgia   \n",
       "2       18-Apr-15   9:55:47 AM            Internet   Acworth   Georgia   \n",
       "3       05-Jul-15  11:59:35 AM            Internet   Acworth   Georgia   \n",
       "4       26-May-15   1:25:26 PM            Internet   Acworth   Georgia   \n",
       "\n",
       "   Zip code  Status Filing on Behalf of Someone  \n",
       "0     21009  Closed                          No  \n",
       "1     30102  Closed                          No  \n",
       "2     30101  Closed                         Yes  \n",
       "3     30101    Open                         Yes  \n",
       "4     30101  Solved                          No  "
      ]
     },
     "execution_count": 7,
     "metadata": {},
     "output_type": "execute_result"
    }
   ],
   "source": [
    "df.head() #Shows 1st 5 records by default with coloumn names."
   ]
  },
  {
   "cell_type": "code",
   "execution_count": 8,
   "metadata": {},
   "outputs": [
    {
     "data": {
      "text/plain": [
       "Ticket #                       0\n",
       "Customer Complaint             0\n",
       "Date                           0\n",
       "Date_month_year                0\n",
       "Time                           0\n",
       "Received Via                   0\n",
       "City                           0\n",
       "State                          0\n",
       "Zip code                       0\n",
       "Status                         0\n",
       "Filing on Behalf of Someone    0\n",
       "dtype: int64"
      ]
     },
     "execution_count": 8,
     "metadata": {},
     "output_type": "execute_result"
    }
   ],
   "source": [
    "df.isnull().sum()    #It is showing that no null values are present in any coloumn."
   ]
  },
  {
   "cell_type": "code",
   "execution_count": 9,
   "metadata": {},
   "outputs": [
    {
     "name": "stdout",
     "output_type": "stream",
     "text": [
      "<class 'pandas.core.frame.DataFrame'>\n",
      "RangeIndex: 2224 entries, 0 to 2223\n",
      "Data columns (total 11 columns):\n",
      " #   Column                       Non-Null Count  Dtype \n",
      "---  ------                       --------------  ----- \n",
      " 0   Ticket #                     2224 non-null   object\n",
      " 1   Customer Complaint           2224 non-null   object\n",
      " 2   Date                         2224 non-null   object\n",
      " 3   Date_month_year              2224 non-null   object\n",
      " 4   Time                         2224 non-null   object\n",
      " 5   Received Via                 2224 non-null   object\n",
      " 6   City                         2224 non-null   object\n",
      " 7   State                        2224 non-null   object\n",
      " 8   Zip code                     2224 non-null   int64 \n",
      " 9   Status                       2224 non-null   object\n",
      " 10  Filing on Behalf of Someone  2224 non-null   object\n",
      "dtypes: int64(1), object(10)\n",
      "memory usage: 191.2+ KB\n"
     ]
    }
   ],
   "source": [
    "df.info() #This function at once gives the output for class,shape,dtype,null values if any at one place."
   ]
  },
  {
   "cell_type": "code",
   "execution_count": 10,
   "metadata": {},
   "outputs": [
    {
     "data": {
      "text/html": [
       "<div>\n",
       "<style scoped>\n",
       "    .dataframe tbody tr th:only-of-type {\n",
       "        vertical-align: middle;\n",
       "    }\n",
       "\n",
       "    .dataframe tbody tr th {\n",
       "        vertical-align: top;\n",
       "    }\n",
       "\n",
       "    .dataframe thead th {\n",
       "        text-align: right;\n",
       "    }\n",
       "</style>\n",
       "<table border=\"1\" class=\"dataframe\">\n",
       "  <thead>\n",
       "    <tr style=\"text-align: right;\">\n",
       "      <th></th>\n",
       "      <th>Ticket #</th>\n",
       "      <th>Customer Complaint</th>\n",
       "      <th>Date</th>\n",
       "      <th>Date_month_year</th>\n",
       "      <th>Time</th>\n",
       "      <th>Received Via</th>\n",
       "      <th>City</th>\n",
       "      <th>State</th>\n",
       "      <th>Zip code</th>\n",
       "      <th>Status</th>\n",
       "      <th>Filing on Behalf of Someone</th>\n",
       "    </tr>\n",
       "  </thead>\n",
       "  <tbody>\n",
       "    <tr>\n",
       "      <th>count</th>\n",
       "      <td>2224</td>\n",
       "      <td>2224</td>\n",
       "      <td>2224</td>\n",
       "      <td>2224</td>\n",
       "      <td>2224</td>\n",
       "      <td>2224</td>\n",
       "      <td>2224</td>\n",
       "      <td>2224</td>\n",
       "      <td>2224.000000</td>\n",
       "      <td>2224</td>\n",
       "      <td>2224</td>\n",
       "    </tr>\n",
       "    <tr>\n",
       "      <th>unique</th>\n",
       "      <td>2224</td>\n",
       "      <td>1841</td>\n",
       "      <td>91</td>\n",
       "      <td>91</td>\n",
       "      <td>2190</td>\n",
       "      <td>2</td>\n",
       "      <td>928</td>\n",
       "      <td>43</td>\n",
       "      <td>NaN</td>\n",
       "      <td>4</td>\n",
       "      <td>2</td>\n",
       "    </tr>\n",
       "    <tr>\n",
       "      <th>top</th>\n",
       "      <td>214498</td>\n",
       "      <td>Comcast</td>\n",
       "      <td>24-06-15</td>\n",
       "      <td>24-Jun-15</td>\n",
       "      <td>2:13:31 PM</td>\n",
       "      <td>Customer Care Call</td>\n",
       "      <td>Atlanta</td>\n",
       "      <td>Georgia</td>\n",
       "      <td>NaN</td>\n",
       "      <td>Solved</td>\n",
       "      <td>No</td>\n",
       "    </tr>\n",
       "    <tr>\n",
       "      <th>freq</th>\n",
       "      <td>1</td>\n",
       "      <td>83</td>\n",
       "      <td>218</td>\n",
       "      <td>218</td>\n",
       "      <td>2</td>\n",
       "      <td>1119</td>\n",
       "      <td>63</td>\n",
       "      <td>288</td>\n",
       "      <td>NaN</td>\n",
       "      <td>973</td>\n",
       "      <td>2021</td>\n",
       "    </tr>\n",
       "    <tr>\n",
       "      <th>mean</th>\n",
       "      <td>NaN</td>\n",
       "      <td>NaN</td>\n",
       "      <td>NaN</td>\n",
       "      <td>NaN</td>\n",
       "      <td>NaN</td>\n",
       "      <td>NaN</td>\n",
       "      <td>NaN</td>\n",
       "      <td>NaN</td>\n",
       "      <td>47994.393435</td>\n",
       "      <td>NaN</td>\n",
       "      <td>NaN</td>\n",
       "    </tr>\n",
       "    <tr>\n",
       "      <th>std</th>\n",
       "      <td>NaN</td>\n",
       "      <td>NaN</td>\n",
       "      <td>NaN</td>\n",
       "      <td>NaN</td>\n",
       "      <td>NaN</td>\n",
       "      <td>NaN</td>\n",
       "      <td>NaN</td>\n",
       "      <td>NaN</td>\n",
       "      <td>28885.279427</td>\n",
       "      <td>NaN</td>\n",
       "      <td>NaN</td>\n",
       "    </tr>\n",
       "    <tr>\n",
       "      <th>min</th>\n",
       "      <td>NaN</td>\n",
       "      <td>NaN</td>\n",
       "      <td>NaN</td>\n",
       "      <td>NaN</td>\n",
       "      <td>NaN</td>\n",
       "      <td>NaN</td>\n",
       "      <td>NaN</td>\n",
       "      <td>NaN</td>\n",
       "      <td>1075.000000</td>\n",
       "      <td>NaN</td>\n",
       "      <td>NaN</td>\n",
       "    </tr>\n",
       "    <tr>\n",
       "      <th>25%</th>\n",
       "      <td>NaN</td>\n",
       "      <td>NaN</td>\n",
       "      <td>NaN</td>\n",
       "      <td>NaN</td>\n",
       "      <td>NaN</td>\n",
       "      <td>NaN</td>\n",
       "      <td>NaN</td>\n",
       "      <td>NaN</td>\n",
       "      <td>30056.500000</td>\n",
       "      <td>NaN</td>\n",
       "      <td>NaN</td>\n",
       "    </tr>\n",
       "    <tr>\n",
       "      <th>50%</th>\n",
       "      <td>NaN</td>\n",
       "      <td>NaN</td>\n",
       "      <td>NaN</td>\n",
       "      <td>NaN</td>\n",
       "      <td>NaN</td>\n",
       "      <td>NaN</td>\n",
       "      <td>NaN</td>\n",
       "      <td>NaN</td>\n",
       "      <td>37211.000000</td>\n",
       "      <td>NaN</td>\n",
       "      <td>NaN</td>\n",
       "    </tr>\n",
       "    <tr>\n",
       "      <th>75%</th>\n",
       "      <td>NaN</td>\n",
       "      <td>NaN</td>\n",
       "      <td>NaN</td>\n",
       "      <td>NaN</td>\n",
       "      <td>NaN</td>\n",
       "      <td>NaN</td>\n",
       "      <td>NaN</td>\n",
       "      <td>NaN</td>\n",
       "      <td>77058.750000</td>\n",
       "      <td>NaN</td>\n",
       "      <td>NaN</td>\n",
       "    </tr>\n",
       "    <tr>\n",
       "      <th>max</th>\n",
       "      <td>NaN</td>\n",
       "      <td>NaN</td>\n",
       "      <td>NaN</td>\n",
       "      <td>NaN</td>\n",
       "      <td>NaN</td>\n",
       "      <td>NaN</td>\n",
       "      <td>NaN</td>\n",
       "      <td>NaN</td>\n",
       "      <td>99223.000000</td>\n",
       "      <td>NaN</td>\n",
       "      <td>NaN</td>\n",
       "    </tr>\n",
       "  </tbody>\n",
       "</table>\n",
       "</div>"
      ],
      "text/plain": [
       "       Ticket # Customer Complaint      Date Date_month_year        Time  \\\n",
       "count      2224               2224      2224            2224        2224   \n",
       "unique     2224               1841        91              91        2190   \n",
       "top      214498            Comcast  24-06-15       24-Jun-15  2:13:31 PM   \n",
       "freq          1                 83       218             218           2   \n",
       "mean        NaN                NaN       NaN             NaN         NaN   \n",
       "std         NaN                NaN       NaN             NaN         NaN   \n",
       "min         NaN                NaN       NaN             NaN         NaN   \n",
       "25%         NaN                NaN       NaN             NaN         NaN   \n",
       "50%         NaN                NaN       NaN             NaN         NaN   \n",
       "75%         NaN                NaN       NaN             NaN         NaN   \n",
       "max         NaN                NaN       NaN             NaN         NaN   \n",
       "\n",
       "              Received Via     City    State      Zip code  Status  \\\n",
       "count                 2224     2224     2224   2224.000000    2224   \n",
       "unique                   2      928       43           NaN       4   \n",
       "top     Customer Care Call  Atlanta  Georgia           NaN  Solved   \n",
       "freq                  1119       63      288           NaN     973   \n",
       "mean                   NaN      NaN      NaN  47994.393435     NaN   \n",
       "std                    NaN      NaN      NaN  28885.279427     NaN   \n",
       "min                    NaN      NaN      NaN   1075.000000     NaN   \n",
       "25%                    NaN      NaN      NaN  30056.500000     NaN   \n",
       "50%                    NaN      NaN      NaN  37211.000000     NaN   \n",
       "75%                    NaN      NaN      NaN  77058.750000     NaN   \n",
       "max                    NaN      NaN      NaN  99223.000000     NaN   \n",
       "\n",
       "       Filing on Behalf of Someone  \n",
       "count                         2224  \n",
       "unique                           2  \n",
       "top                             No  \n",
       "freq                          2021  \n",
       "mean                           NaN  \n",
       "std                            NaN  \n",
       "min                            NaN  \n",
       "25%                            NaN  \n",
       "50%                            NaN  \n",
       "75%                            NaN  \n",
       "max                            NaN  "
      ]
     },
     "execution_count": 10,
     "metadata": {},
     "output_type": "execute_result"
    }
   ],
   "source": [
    "df.describe(include=\"all\")  #Gives a summary statistics of all variable present in the dataframe. Though it does not hold \n",
    "                            #any importance for categorical data type."
   ]
  },
  {
   "cell_type": "code",
   "execution_count": 11,
   "metadata": {},
   "outputs": [
    {
     "data": {
      "text/html": [
       "<div>\n",
       "<style scoped>\n",
       "    .dataframe tbody tr th:only-of-type {\n",
       "        vertical-align: middle;\n",
       "    }\n",
       "\n",
       "    .dataframe tbody tr th {\n",
       "        vertical-align: top;\n",
       "    }\n",
       "\n",
       "    .dataframe thead th {\n",
       "        text-align: right;\n",
       "    }\n",
       "</style>\n",
       "<table border=\"1\" class=\"dataframe\">\n",
       "  <thead>\n",
       "    <tr style=\"text-align: right;\">\n",
       "      <th></th>\n",
       "      <th>Zip code</th>\n",
       "    </tr>\n",
       "  </thead>\n",
       "  <tbody>\n",
       "    <tr>\n",
       "      <th>count</th>\n",
       "      <td>2224.000000</td>\n",
       "    </tr>\n",
       "    <tr>\n",
       "      <th>mean</th>\n",
       "      <td>47994.393435</td>\n",
       "    </tr>\n",
       "    <tr>\n",
       "      <th>std</th>\n",
       "      <td>28885.279427</td>\n",
       "    </tr>\n",
       "    <tr>\n",
       "      <th>min</th>\n",
       "      <td>1075.000000</td>\n",
       "    </tr>\n",
       "    <tr>\n",
       "      <th>25%</th>\n",
       "      <td>30056.500000</td>\n",
       "    </tr>\n",
       "    <tr>\n",
       "      <th>50%</th>\n",
       "      <td>37211.000000</td>\n",
       "    </tr>\n",
       "    <tr>\n",
       "      <th>75%</th>\n",
       "      <td>77058.750000</td>\n",
       "    </tr>\n",
       "    <tr>\n",
       "      <th>max</th>\n",
       "      <td>99223.000000</td>\n",
       "    </tr>\n",
       "  </tbody>\n",
       "</table>\n",
       "</div>"
      ],
      "text/plain": [
       "           Zip code\n",
       "count   2224.000000\n",
       "mean   47994.393435\n",
       "std    28885.279427\n",
       "min     1075.000000\n",
       "25%    30056.500000\n",
       "50%    37211.000000\n",
       "75%    77058.750000\n",
       "max    99223.000000"
      ]
     },
     "execution_count": 11,
     "metadata": {},
     "output_type": "execute_result"
    }
   ],
   "source": [
    "df.describe() #Gives summary of numerical coloumns only by default."
   ]
  },
  {
   "cell_type": "code",
   "execution_count": 12,
   "metadata": {},
   "outputs": [
    {
     "data": {
      "text/plain": [
       "0       False\n",
       "1       False\n",
       "2       False\n",
       "3       False\n",
       "4       False\n",
       "        ...  \n",
       "2219    False\n",
       "2220    False\n",
       "2221    False\n",
       "2222    False\n",
       "2223    False\n",
       "Length: 2224, dtype: bool"
      ]
     },
     "execution_count": 12,
     "metadata": {},
     "output_type": "execute_result"
    }
   ],
   "source": [
    "df.duplicated()    #Inspecting for any duplicate records if any."
   ]
  },
  {
   "cell_type": "code",
   "execution_count": 13,
   "metadata": {},
   "outputs": [
    {
     "name": "stdout",
     "output_type": "stream",
     "text": [
      "no duplicates found\n"
     ]
    }
   ],
   "source": [
    "for i in df:\n",
    "    if i==True:\n",
    "        print(i)\n",
    "else:\n",
    "    print(\"no duplicates found\")"
   ]
  },
  {
   "cell_type": "code",
   "execution_count": 14,
   "metadata": {},
   "outputs": [],
   "source": [
    "Z=df['Ticket #'].duplicated()"
   ]
  },
  {
   "cell_type": "code",
   "execution_count": 15,
   "metadata": {},
   "outputs": [
    {
     "data": {
      "text/plain": [
       "0       False\n",
       "1       False\n",
       "2       False\n",
       "3       False\n",
       "4       False\n",
       "        ...  \n",
       "2219    False\n",
       "2220    False\n",
       "2221    False\n",
       "2222    False\n",
       "2223    False\n",
       "Name: Ticket #, Length: 2224, dtype: bool"
      ]
     },
     "execution_count": 15,
     "metadata": {},
     "output_type": "execute_result"
    }
   ],
   "source": [
    "Z"
   ]
  },
  {
   "cell_type": "code",
   "execution_count": 16,
   "metadata": {},
   "outputs": [
    {
     "name": "stdout",
     "output_type": "stream",
     "text": [
      "no duplicate tickets found\n"
     ]
    }
   ],
   "source": [
    "for i in Z:\n",
    "    if i==True:\n",
    "        print(i)\n",
    "else:\n",
    "    print(\"no duplicate tickets found\")\n",
    " # this shows that there are no duplicate enteries of tickets also.\n"
   ]
  },
  {
   "cell_type": "markdown",
   "metadata": {},
   "source": [
    "## TASK-2 : Provide the trend chart for the number of complaints at monthly and daily granularity levels."
   ]
  },
  {
   "cell_type": "code",
   "execution_count": 17,
   "metadata": {},
   "outputs": [
    {
     "name": "stdout",
     "output_type": "stream",
     "text": [
      "<class 'pandas.core.frame.DataFrame'>\n",
      "RangeIndex: 2224 entries, 0 to 2223\n",
      "Data columns (total 11 columns):\n",
      " #   Column                       Non-Null Count  Dtype \n",
      "---  ------                       --------------  ----- \n",
      " 0   Ticket #                     2224 non-null   object\n",
      " 1   Customer Complaint           2224 non-null   object\n",
      " 2   Date                         2224 non-null   object\n",
      " 3   Date_month_year              2224 non-null   object\n",
      " 4   Time                         2224 non-null   object\n",
      " 5   Received Via                 2224 non-null   object\n",
      " 6   City                         2224 non-null   object\n",
      " 7   State                        2224 non-null   object\n",
      " 8   Zip code                     2224 non-null   int64 \n",
      " 9   Status                       2224 non-null   object\n",
      " 10  Filing on Behalf of Someone  2224 non-null   object\n",
      "dtypes: int64(1), object(10)\n",
      "memory usage: 191.2+ KB\n"
     ]
    }
   ],
   "source": [
    "df.info()"
   ]
  },
  {
   "cell_type": "code",
   "execution_count": 18,
   "metadata": {},
   "outputs": [],
   "source": [
    "df[\"Date\"]=pd.to_datetime(df[\"Date\"])"
   ]
  },
  {
   "cell_type": "code",
   "execution_count": 19,
   "metadata": {},
   "outputs": [
    {
     "name": "stdout",
     "output_type": "stream",
     "text": [
      "<class 'pandas.core.frame.DataFrame'>\n",
      "RangeIndex: 2224 entries, 0 to 2223\n",
      "Data columns (total 11 columns):\n",
      " #   Column                       Non-Null Count  Dtype         \n",
      "---  ------                       --------------  -----         \n",
      " 0   Ticket #                     2224 non-null   object        \n",
      " 1   Customer Complaint           2224 non-null   object        \n",
      " 2   Date                         2224 non-null   datetime64[ns]\n",
      " 3   Date_month_year              2224 non-null   object        \n",
      " 4   Time                         2224 non-null   object        \n",
      " 5   Received Via                 2224 non-null   object        \n",
      " 6   City                         2224 non-null   object        \n",
      " 7   State                        2224 non-null   object        \n",
      " 8   Zip code                     2224 non-null   int64         \n",
      " 9   Status                       2224 non-null   object        \n",
      " 10  Filing on Behalf of Someone  2224 non-null   object        \n",
      "dtypes: datetime64[ns](1), int64(1), object(9)\n",
      "memory usage: 191.2+ KB\n"
     ]
    }
   ],
   "source": [
    "df.info() #Date coloumn converted to datetime object."
   ]
  },
  {
   "cell_type": "code",
   "execution_count": 20,
   "metadata": {},
   "outputs": [],
   "source": [
    "from datetime import datetime"
   ]
  },
  {
   "cell_type": "code",
   "execution_count": 21,
   "metadata": {},
   "outputs": [
    {
     "data": {
      "text/plain": [
       "datetime.datetime(2021, 1, 24, 15, 24, 25, 898008)"
      ]
     },
     "execution_count": 21,
     "metadata": {},
     "output_type": "execute_result"
    }
   ],
   "source": [
    "n= datetime.now()\n",
    "n         # Shows that datetime got imported sucessfully."
   ]
  },
  {
   "cell_type": "code",
   "execution_count": 22,
   "metadata": {},
   "outputs": [],
   "source": [
    "df['month_year']=df['Date'].dt.strftime(\"%m/%Y\")    #Creating new coloumn and passing string values for plotting graph as frequency and to find value counts."
   ]
  },
  {
   "cell_type": "code",
   "execution_count": 23,
   "metadata": {},
   "outputs": [
    {
     "data": {
      "text/plain": [
       "06/2015    1280\n",
       "04/2015     545\n",
       "05/2015     399\n",
       "Name: month_year, dtype: int64"
      ]
     },
     "execution_count": 23,
     "metadata": {},
     "output_type": "execute_result"
    }
   ],
   "source": [
    "df['month_year'].value_counts() #This shows that the 6th month i.e., June,2015 has got highest no. of complaints registered"
   ]
  },
  {
   "cell_type": "code",
   "execution_count": 24,
   "metadata": {},
   "outputs": [
    {
     "data": {
      "text/plain": [
       "array(['04/2015', '04/2015', '04/2015', ..., '06/2015', '06/2015',\n",
       "       '06/2015'], dtype=object)"
      ]
     },
     "execution_count": 24,
     "metadata": {},
     "output_type": "execute_result"
    }
   ],
   "source": [
    "x=np.array(df['month_year'])    #creating an array to plot a histogram\n",
    "x"
   ]
  },
  {
   "cell_type": "code",
   "execution_count": 25,
   "metadata": {},
   "outputs": [
    {
     "data": {
      "text/plain": [
       "(array([ 545.,    0.,    0.,    0.,    0.,  399.,    0.,    0.,    0.,\n",
       "        1280.]),\n",
       " array([0. , 0.2, 0.4, 0.6, 0.8, 1. , 1.2, 1.4, 1.6, 1.8, 2. ]),\n",
       " <BarContainer object of 10 artists>)"
      ]
     },
     "execution_count": 25,
     "metadata": {},
     "output_type": "execute_result"
    },
    {
     "data": {
      "image/png": "[encoded data removed]",
      "text/plain": [
       "<Figure size 432x288 with 1 Axes>"
      ]
     },
     "metadata": {
      "needs_background": "light"
     },
     "output_type": "display_data"
    }
   ],
   "source": [
    "plt.hist(x)        # Command for plotting a histogram using pyplot."
   ]
  },
  {
   "cell_type": "code",
   "execution_count": 26,
   "metadata": {},
   "outputs": [
    {
     "data": {
      "text/plain": [
       "'As clearly visible, it can be inferred from the histogram that maximum complaints have been lodged during the 6th(June) month. Seeing this we can predict that\\nsuch a circumstance may arise during this specific period in the upcoming years also.Thus the management can prepare themselves before hand to handle any such\\nsituation by properly investigating the reason for increased complaints and putting proper resources in place to tackle this.'"
      ]
     },
     "execution_count": 26,
     "metadata": {},
     "output_type": "execute_result"
    }
   ],
   "source": [
    "\"\"\"As clearly visible, it can be inferred from the histogram that maximum complaints have been lodged during the 6th(June) month. Seeing this we can predict that\n",
    "such a circumstance may arise during this specific period in the upcoming years also.Thus the management can prepare themselves before hand to handle any such\n",
    "situation by properly investigating the reason for increased complaints and putting proper resources in place to tackle this.\"\"\""
   ]
  },
  {
   "cell_type": "code",
   "execution_count": 27,
   "metadata": {},
   "outputs": [],
   "source": [
    "df['day_month'] = df['Date'].dt.strftime(\"%d %b\")"
   ]
  },
  {
   "cell_type": "code",
   "execution_count": 28,
   "metadata": {},
   "outputs": [
    {
     "data": {
      "text/plain": [
       "0       22 Apr\n",
       "1       08 Apr\n",
       "2       18 Apr\n",
       "3       07 May\n",
       "4       26 May\n",
       "         ...  \n",
       "2219    02 Apr\n",
       "2220    02 Jun\n",
       "2221    09 Jun\n",
       "2222    23 Jun\n",
       "2223    24 Jun\n",
       "Name: day_month, Length: 2224, dtype: object"
      ]
     },
     "execution_count": 28,
     "metadata": {},
     "output_type": "execute_result"
    }
   ],
   "source": [
    "df['day_month']"
   ]
  },
  {
   "cell_type": "code",
   "execution_count": 29,
   "metadata": {},
   "outputs": [
    {
     "data": {
      "text/plain": [
       "24 Jun    218\n",
       "23 Jun    190\n",
       "25 Jun     98\n",
       "26 Jun     55\n",
       "30 Jun     53\n",
       "29 Jun     51\n",
       "18 Jun     47\n",
       "12 Jun     43\n",
       "27 Jun     39\n",
       "15 Jun     34\n",
       "17 Jun     32\n",
       "13 Jun     32\n",
       "22 Jun     30\n",
       "05 Jun     29\n",
       "19 Jun     29\n",
       "16 Jun     29\n",
       "08 Apr     28\n",
       "02 Apr     27\n",
       "28 Jun     27\n",
       "26 May     27\n",
       "28 Apr     26\n",
       "28 May     26\n",
       "03 Jun     25\n",
       "02 Jun     25\n",
       "07 Apr     25\n",
       "Name: day_month, dtype: int64"
      ]
     },
     "execution_count": 29,
     "metadata": {},
     "output_type": "execute_result"
    }
   ],
   "source": [
    "df['day_month'].value_counts().head(25)"
   ]
  },
  {
   "cell_type": "code",
   "execution_count": 30,
   "metadata": {},
   "outputs": [
    {
     "data": {
      "text/plain": [
       "'From above, it can be inferred that during the last of June month i.e., from 24th to 30th the no. of complaints are highest, may be due to some infrastructure\\nfailure, requires a more precise investigation, it may also give insight that may be due to some holiday and increased users, the system might have crashed and \\nthus may need some infrastructural upgradation to tackle circumstances such as these in near future.'"
      ]
     },
     "execution_count": 30,
     "metadata": {},
     "output_type": "execute_result"
    }
   ],
   "source": [
    "'''From above, it can be inferred that during the last of June month i.e., from 24th to 30th the no. of complaints are highest, may be due to some infrastructure\n",
    "failure, requires a more precise investigation, it may also give insight that may be due to some holiday and increased users, the system might have crashed and \n",
    "thus may need some infrastructural upgradation to tackle circumstances such as these in near future.'''"
   ]
  },
  {
   "cell_type": "code",
   "execution_count": 31,
   "metadata": {},
   "outputs": [
    {
     "data": {
      "text/plain": [
       "1410    01 Apr\n",
       "1537    01 Apr\n",
       "1237    01 Apr\n",
       "767     01 Apr\n",
       "2133    01 Apr\n",
       "         ...  \n",
       "634     31 May\n",
       "668     31 May\n",
       "329     31 May\n",
       "874     31 May\n",
       "464     31 May\n",
       "Name: day_month, Length: 2224, dtype: object"
      ]
     },
     "execution_count": 31,
     "metadata": {},
     "output_type": "execute_result"
    }
   ],
   "source": [
    "df['day_month'].sort_values()"
   ]
  },
  {
   "cell_type": "code",
   "execution_count": 32,
   "metadata": {},
   "outputs": [],
   "source": [
    "y=np.array(df['Date']) # creating array for plotting histogram for observing the general trend on daily basis for the given period."
   ]
  },
  {
   "cell_type": "code",
   "execution_count": 33,
   "metadata": {},
   "outputs": [
    {
     "data": {
      "text/plain": [
       "(array([165., 149., 159., 136., 106., 114., 165., 179., 278., 773.]),\n",
       " array([16526., 16535., 16544., 16553., 16562., 16571., 16580., 16589.,\n",
       "        16598., 16607., 16616.]),\n",
       " <BarContainer object of 10 artists>)"
      ]
     },
     "execution_count": 33,
     "metadata": {},
     "output_type": "execute_result"
    },
    {
     "data": {
      "image/png": "[encoded data removed]",
      "text/plain": [
       "<Figure size 2160x792 with 1 Axes>"
      ]
     },
     "metadata": {
      "needs_background": "light"
     },
     "output_type": "display_data"
    }
   ],
   "source": [
    "plt.rcParams['figure.figsize'] =(30,11) #plotting histogram for seeing the general trend on daily basis for the given period.\n",
    "plt.xticks(rotation=45)\n",
    "plt.hist(y)"
   ]
  },
  {
   "cell_type": "code",
   "execution_count": 34,
   "metadata": {},
   "outputs": [
    {
     "data": {
      "text/plain": [
       "'From the histogram it can inferred visually that during the 2nd week of May month the no. of complaints are lowest, thus can be investigated what changes had\\nbeen done which is yeilding positive results and thus that should be applied for performance improvement and then again mining data of future to validate that, or\\ncomparing the changes in the preceding and proceeding months datato gain insights.\\nThe general trend shows that there has been significant increase in complaints at the end of June month, what factors have led this requires more investigation.'"
      ]
     },
     "execution_count": 34,
     "metadata": {},
     "output_type": "execute_result"
    }
   ],
   "source": [
    "'''From the histogram it can inferred visually that during the 2nd week of May month the no. of complaints are lowest, thus can be investigated what changes had\n",
    "been done which is yeilding positive results and thus that should be applied for performance improvement and then again mining data of future to validate that, or\n",
    "comparing the changes in the preceding and proceeding months datato gain insights.\n",
    "The general trend shows that there has been significant increase in complaints at the end of June month, what factors have led this requires more investigation.'''"
   ]
  },
  {
   "cell_type": "code",
   "execution_count": 35,
   "metadata": {},
   "outputs": [
    {
     "data": {
      "text/plain": [
       "Solved     973\n",
       "Closed     734\n",
       "Open       363\n",
       "Pending    154\n",
       "Name: Status, dtype: int64"
      ]
     },
     "execution_count": 35,
     "metadata": {},
     "output_type": "execute_result"
    }
   ],
   "source": [
    "df['Status'].value_counts()"
   ]
  },
  {
   "cell_type": "markdown",
   "metadata": {},
   "source": [
    "## TASK-3: Provide a table with the frequency of complaint types."
   ]
  },
  {
   "cell_type": "code",
   "execution_count": 36,
   "metadata": {},
   "outputs": [],
   "source": [
    "df[\"Customer Complaint\"]=df[\"Customer Complaint\"].str.lower() \n",
    "\n",
    "#converting all string values under this coloumn to lower case so that we can get proper insights even out of inconsistent data."
   ]
  },
  {
   "cell_type": "code",
   "execution_count": 37,
   "metadata": {},
   "outputs": [],
   "source": [
    "frequency_of_complaint_types=df[\"Customer Complaint\"].value_counts()"
   ]
  },
  {
   "cell_type": "code",
   "execution_count": 38,
   "metadata": {},
   "outputs": [
    {
     "data": {
      "text/plain": [
       "comcast                      102\n",
       "comcast data cap              30\n",
       "comcast internet              29\n",
       "comcast data caps             21\n",
       "comcast billing               18\n",
       "comcast service               15\n",
       "internet speed                15\n",
       "data caps                     13\n",
       "unfair billing practices      13\n",
       "data cap                      12\n",
       "comcast complaint             11\n",
       "comcast/xfinity               11\n",
       "comcast internet service      10\n",
       "billing                        9\n",
       "billing issues                 8\n",
       "comcast billing complaint      5\n",
       "slow internet                  5\n",
       "comcast cable                  5\n",
       "comcast billing practices      5\n",
       "comcast issues                 5\n",
       "internet                       5\n",
       "internet service               5\n",
       "service issues                 5\n",
       "complaint against comcast      5\n",
       "comcast xfinity                4\n",
       "Name: Customer Complaint, dtype: int64"
      ]
     },
     "execution_count": 38,
     "metadata": {},
     "output_type": "execute_result"
    }
   ],
   "source": [
    "frequency_of_complaint_types.head(25)\n",
    "\n",
    "#showing top 25 complaint types"
   ]
  },
  {
   "cell_type": "code",
   "execution_count": 39,
   "metadata": {},
   "outputs": [
    {
     "data": {
      "text/plain": [
       "'from above table it can be inferred that maximum complaints are regarding internet usage issue,be it on data cap or on slow speed then followed \\nby billing issue and one more part as comcast having highest complaint needs to be analysed using other package related to text analytics to gain \\nmore insight about  what it contains and why it has been highlighted to be at the top'"
      ]
     },
     "execution_count": 39,
     "metadata": {},
     "output_type": "execute_result"
    }
   ],
   "source": [
    "\"\"\"from above table it can be inferred that maximum complaints are regarding internet usage issue,be it on data cap or on slow speed then followed \n",
    "by billing issue and one more part as comcast having highest complaint needs to be analysed using other package related to text analytics to gain \n",
    "more insight about  what it contains and why it has been highlighted to be at the top\"\"\""
   ]
  },
  {
   "cell_type": "code",
   "execution_count": 40,
   "metadata": {},
   "outputs": [
    {
     "data": {
      "text/plain": [
       "pandas.core.series.Series"
      ]
     },
     "execution_count": 40,
     "metadata": {},
     "output_type": "execute_result"
    }
   ],
   "source": [
    "type(frequency_of_complaint_types)"
   ]
  },
  {
   "cell_type": "markdown",
   "metadata": {},
   "source": [
    "## TASK-4: Create a new categorical variable with value as Open and Closed. Open & Pending is to be categorized as Open and Closed & Solved is to be categorized as Closed.\n"
   ]
  },
  {
   "cell_type": "code",
   "execution_count": 41,
   "metadata": {},
   "outputs": [],
   "source": [
    "df[\"New_Status\"] = [\"Open\" if Status==\"Open\" or Status==\"Pending\" else \"Closed\" for Status in df[\"Status\"]]"
   ]
  },
  {
   "cell_type": "code",
   "execution_count": 42,
   "metadata": {},
   "outputs": [
    {
     "data": {
      "text/html": [
       "<div>\n",
       "<style scoped>\n",
       "    .dataframe tbody tr th:only-of-type {\n",
       "        vertical-align: middle;\n",
       "    }\n",
       "\n",
       "    .dataframe tbody tr th {\n",
       "        vertical-align: top;\n",
       "    }\n",
       "\n",
       "    .dataframe thead th {\n",
       "        text-align: right;\n",
       "    }\n",
       "</style>\n",
       "<table border=\"1\" class=\"dataframe\">\n",
       "  <thead>\n",
       "    <tr style=\"text-align: right;\">\n",
       "      <th></th>\n",
       "      <th>Ticket #</th>\n",
       "      <th>Customer Complaint</th>\n",
       "      <th>Date</th>\n",
       "      <th>Date_month_year</th>\n",
       "      <th>Time</th>\n",
       "      <th>Received Via</th>\n",
       "      <th>City</th>\n",
       "      <th>State</th>\n",
       "      <th>Zip code</th>\n",
       "      <th>Status</th>\n",
       "      <th>Filing on Behalf of Someone</th>\n",
       "      <th>month_year</th>\n",
       "      <th>day_month</th>\n",
       "      <th>New_Status</th>\n",
       "    </tr>\n",
       "  </thead>\n",
       "  <tbody>\n",
       "    <tr>\n",
       "      <th>0</th>\n",
       "      <td>250635</td>\n",
       "      <td>comcast cable internet speeds</td>\n",
       "      <td>2015-04-22</td>\n",
       "      <td>22-Apr-15</td>\n",
       "      <td>3:53:50 PM</td>\n",
       "      <td>Customer Care Call</td>\n",
       "      <td>Abingdon</td>\n",
       "      <td>Maryland</td>\n",
       "      <td>21009</td>\n",
       "      <td>Closed</td>\n",
       "      <td>No</td>\n",
       "      <td>04/2015</td>\n",
       "      <td>22 Apr</td>\n",
       "      <td>Closed</td>\n",
       "    </tr>\n",
       "    <tr>\n",
       "      <th>1</th>\n",
       "      <td>223441</td>\n",
       "      <td>payment disappear - service got disconnected</td>\n",
       "      <td>2015-04-08</td>\n",
       "      <td>04-Aug-15</td>\n",
       "      <td>10:22:56 AM</td>\n",
       "      <td>Internet</td>\n",
       "      <td>Acworth</td>\n",
       "      <td>Georgia</td>\n",
       "      <td>30102</td>\n",
       "      <td>Closed</td>\n",
       "      <td>No</td>\n",
       "      <td>04/2015</td>\n",
       "      <td>08 Apr</td>\n",
       "      <td>Closed</td>\n",
       "    </tr>\n",
       "    <tr>\n",
       "      <th>2</th>\n",
       "      <td>242732</td>\n",
       "      <td>speed and service</td>\n",
       "      <td>2015-04-18</td>\n",
       "      <td>18-Apr-15</td>\n",
       "      <td>9:55:47 AM</td>\n",
       "      <td>Internet</td>\n",
       "      <td>Acworth</td>\n",
       "      <td>Georgia</td>\n",
       "      <td>30101</td>\n",
       "      <td>Closed</td>\n",
       "      <td>Yes</td>\n",
       "      <td>04/2015</td>\n",
       "      <td>18 Apr</td>\n",
       "      <td>Closed</td>\n",
       "    </tr>\n",
       "    <tr>\n",
       "      <th>3</th>\n",
       "      <td>277946</td>\n",
       "      <td>comcast imposed a new usage cap of 300gb that ...</td>\n",
       "      <td>2015-05-07</td>\n",
       "      <td>05-Jul-15</td>\n",
       "      <td>11:59:35 AM</td>\n",
       "      <td>Internet</td>\n",
       "      <td>Acworth</td>\n",
       "      <td>Georgia</td>\n",
       "      <td>30101</td>\n",
       "      <td>Open</td>\n",
       "      <td>Yes</td>\n",
       "      <td>05/2015</td>\n",
       "      <td>07 May</td>\n",
       "      <td>Open</td>\n",
       "    </tr>\n",
       "    <tr>\n",
       "      <th>4</th>\n",
       "      <td>307175</td>\n",
       "      <td>comcast not working and no service to boot</td>\n",
       "      <td>2015-05-26</td>\n",
       "      <td>26-May-15</td>\n",
       "      <td>1:25:26 PM</td>\n",
       "      <td>Internet</td>\n",
       "      <td>Acworth</td>\n",
       "      <td>Georgia</td>\n",
       "      <td>30101</td>\n",
       "      <td>Solved</td>\n",
       "      <td>No</td>\n",
       "      <td>05/2015</td>\n",
       "      <td>26 May</td>\n",
       "      <td>Closed</td>\n",
       "    </tr>\n",
       "    <tr>\n",
       "      <th>5</th>\n",
       "      <td>338519</td>\n",
       "      <td>isp charging for arbitrary data limits with ov...</td>\n",
       "      <td>2015-06-12</td>\n",
       "      <td>06-Dec-15</td>\n",
       "      <td>9:59:40 PM</td>\n",
       "      <td>Internet</td>\n",
       "      <td>Acworth</td>\n",
       "      <td>Georgia</td>\n",
       "      <td>30101</td>\n",
       "      <td>Solved</td>\n",
       "      <td>No</td>\n",
       "      <td>06/2015</td>\n",
       "      <td>12 Jun</td>\n",
       "      <td>Closed</td>\n",
       "    </tr>\n",
       "    <tr>\n",
       "      <th>6</th>\n",
       "      <td>361148</td>\n",
       "      <td>throttling service and unreasonable data caps</td>\n",
       "      <td>2015-06-24</td>\n",
       "      <td>24-Jun-15</td>\n",
       "      <td>10:13:55 AM</td>\n",
       "      <td>Customer Care Call</td>\n",
       "      <td>Acworth</td>\n",
       "      <td>Georgia</td>\n",
       "      <td>30101</td>\n",
       "      <td>Pending</td>\n",
       "      <td>No</td>\n",
       "      <td>06/2015</td>\n",
       "      <td>24 Jun</td>\n",
       "      <td>Open</td>\n",
       "    </tr>\n",
       "    <tr>\n",
       "      <th>7</th>\n",
       "      <td>359792</td>\n",
       "      <td>comcast refuses to help troubleshoot and corre...</td>\n",
       "      <td>2015-06-23</td>\n",
       "      <td>23-Jun-15</td>\n",
       "      <td>6:56:14 PM</td>\n",
       "      <td>Internet</td>\n",
       "      <td>Adrian</td>\n",
       "      <td>Michigan</td>\n",
       "      <td>49221</td>\n",
       "      <td>Solved</td>\n",
       "      <td>No</td>\n",
       "      <td>06/2015</td>\n",
       "      <td>23 Jun</td>\n",
       "      <td>Closed</td>\n",
       "    </tr>\n",
       "    <tr>\n",
       "      <th>8</th>\n",
       "      <td>318072</td>\n",
       "      <td>comcast extended outages</td>\n",
       "      <td>2015-06-01</td>\n",
       "      <td>06-Jan-15</td>\n",
       "      <td>11:46:30 PM</td>\n",
       "      <td>Customer Care Call</td>\n",
       "      <td>Alameda</td>\n",
       "      <td>California</td>\n",
       "      <td>94502</td>\n",
       "      <td>Closed</td>\n",
       "      <td>No</td>\n",
       "      <td>06/2015</td>\n",
       "      <td>01 Jun</td>\n",
       "      <td>Closed</td>\n",
       "    </tr>\n",
       "    <tr>\n",
       "      <th>9</th>\n",
       "      <td>371214</td>\n",
       "      <td>comcast raising prices and not being available...</td>\n",
       "      <td>2015-06-28</td>\n",
       "      <td>28-Jun-15</td>\n",
       "      <td>6:46:31 PM</td>\n",
       "      <td>Customer Care Call</td>\n",
       "      <td>Alameda</td>\n",
       "      <td>California</td>\n",
       "      <td>94501</td>\n",
       "      <td>Open</td>\n",
       "      <td>Yes</td>\n",
       "      <td>06/2015</td>\n",
       "      <td>28 Jun</td>\n",
       "      <td>Open</td>\n",
       "    </tr>\n",
       "    <tr>\n",
       "      <th>10</th>\n",
       "      <td>255938</td>\n",
       "      <td>billing after service was asked to be disconne...</td>\n",
       "      <td>2015-04-24</td>\n",
       "      <td>24-Apr-15</td>\n",
       "      <td>4:40:36 PM</td>\n",
       "      <td>Internet</td>\n",
       "      <td>Albuquerque</td>\n",
       "      <td>New Mexico</td>\n",
       "      <td>87106</td>\n",
       "      <td>Closed</td>\n",
       "      <td>No</td>\n",
       "      <td>04/2015</td>\n",
       "      <td>24 Apr</td>\n",
       "      <td>Closed</td>\n",
       "    </tr>\n",
       "    <tr>\n",
       "      <th>11</th>\n",
       "      <td>276409</td>\n",
       "      <td>yahoo failure to restore email search feature</td>\n",
       "      <td>2015-05-06</td>\n",
       "      <td>05-Jun-15</td>\n",
       "      <td>3:09:49 PM</td>\n",
       "      <td>Customer Care Call</td>\n",
       "      <td>Albuquerque</td>\n",
       "      <td>New Mexico</td>\n",
       "      <td>87109</td>\n",
       "      <td>Closed</td>\n",
       "      <td>No</td>\n",
       "      <td>05/2015</td>\n",
       "      <td>06 May</td>\n",
       "      <td>Closed</td>\n",
       "    </tr>\n",
       "    <tr>\n",
       "      <th>12</th>\n",
       "      <td>339282</td>\n",
       "      <td>comcast violating open internet rules by block...</td>\n",
       "      <td>2015-06-13</td>\n",
       "      <td>13-Jun-15</td>\n",
       "      <td>4:03:18 PM</td>\n",
       "      <td>Internet</td>\n",
       "      <td>Albuquerque</td>\n",
       "      <td>New Mexico</td>\n",
       "      <td>87105</td>\n",
       "      <td>Open</td>\n",
       "      <td>Yes</td>\n",
       "      <td>06/2015</td>\n",
       "      <td>13 Jun</td>\n",
       "      <td>Open</td>\n",
       "    </tr>\n",
       "    <tr>\n",
       "      <th>13</th>\n",
       "      <td>360178</td>\n",
       "      <td>internet speed</td>\n",
       "      <td>2015-06-23</td>\n",
       "      <td>23-Jun-15</td>\n",
       "      <td>9:23:23 PM</td>\n",
       "      <td>Internet</td>\n",
       "      <td>Albuquerque</td>\n",
       "      <td>New Mexico</td>\n",
       "      <td>87113</td>\n",
       "      <td>Solved</td>\n",
       "      <td>No</td>\n",
       "      <td>06/2015</td>\n",
       "      <td>23 Jun</td>\n",
       "      <td>Closed</td>\n",
       "    </tr>\n",
       "    <tr>\n",
       "      <th>14</th>\n",
       "      <td>376268</td>\n",
       "      <td>internet disconnects every night</td>\n",
       "      <td>2015-06-30</td>\n",
       "      <td>30-Jun-15</td>\n",
       "      <td>10:30:02 PM</td>\n",
       "      <td>Customer Care Call</td>\n",
       "      <td>Albuquerque</td>\n",
       "      <td>New Mexico</td>\n",
       "      <td>87116</td>\n",
       "      <td>Solved</td>\n",
       "      <td>No</td>\n",
       "      <td>06/2015</td>\n",
       "      <td>30 Jun</td>\n",
       "      <td>Closed</td>\n",
       "    </tr>\n",
       "    <tr>\n",
       "      <th>15</th>\n",
       "      <td>370137</td>\n",
       "      <td>internet complaint</td>\n",
       "      <td>2015-06-27</td>\n",
       "      <td>27-Jun-15</td>\n",
       "      <td>3:25:03 PM</td>\n",
       "      <td>Customer Care Call</td>\n",
       "      <td>Albuquerqur</td>\n",
       "      <td>New Mexico</td>\n",
       "      <td>87102</td>\n",
       "      <td>Pending</td>\n",
       "      <td>No</td>\n",
       "      <td>06/2015</td>\n",
       "      <td>27 Jun</td>\n",
       "      <td>Open</td>\n",
       "    </tr>\n",
       "    <tr>\n",
       "      <th>16</th>\n",
       "      <td>363695</td>\n",
       "      <td>internet availability and speed</td>\n",
       "      <td>2015-06-24</td>\n",
       "      <td>24-Jun-15</td>\n",
       "      <td>11:47:33 PM</td>\n",
       "      <td>Customer Care Call</td>\n",
       "      <td>Alexandria</td>\n",
       "      <td>Indiana</td>\n",
       "      <td>46001</td>\n",
       "      <td>Solved</td>\n",
       "      <td>No</td>\n",
       "      <td>06/2015</td>\n",
       "      <td>24 Jun</td>\n",
       "      <td>Closed</td>\n",
       "    </tr>\n",
       "    <tr>\n",
       "      <th>17</th>\n",
       "      <td>238694</td>\n",
       "      <td>comcast owes me $65 and claims i need to retur...</td>\n",
       "      <td>2015-04-16</td>\n",
       "      <td>16-Apr-15</td>\n",
       "      <td>10:04:57 AM</td>\n",
       "      <td>Internet</td>\n",
       "      <td>Alexandria</td>\n",
       "      <td>Virginia</td>\n",
       "      <td>22304</td>\n",
       "      <td>Closed</td>\n",
       "      <td>No</td>\n",
       "      <td>04/2015</td>\n",
       "      <td>16 Apr</td>\n",
       "      <td>Closed</td>\n",
       "    </tr>\n",
       "    <tr>\n",
       "      <th>18</th>\n",
       "      <td>230876</td>\n",
       "      <td>horrible internet service</td>\n",
       "      <td>2015-04-11</td>\n",
       "      <td>04-Nov-15</td>\n",
       "      <td>7:48:05 PM</td>\n",
       "      <td>Customer Care Call</td>\n",
       "      <td>Alexandria</td>\n",
       "      <td>Virginia</td>\n",
       "      <td>22305</td>\n",
       "      <td>Closed</td>\n",
       "      <td>No</td>\n",
       "      <td>04/2015</td>\n",
       "      <td>11 Apr</td>\n",
       "      <td>Closed</td>\n",
       "    </tr>\n",
       "    <tr>\n",
       "      <th>19</th>\n",
       "      <td>318725</td>\n",
       "      <td>failure to provide services that i am billed for.</td>\n",
       "      <td>2015-06-02</td>\n",
       "      <td>06-Feb-15</td>\n",
       "      <td>1:03:52 PM</td>\n",
       "      <td>Customer Care Call</td>\n",
       "      <td>Alexandria</td>\n",
       "      <td>Virginia</td>\n",
       "      <td>22314</td>\n",
       "      <td>Closed</td>\n",
       "      <td>No</td>\n",
       "      <td>06/2015</td>\n",
       "      <td>02 Jun</td>\n",
       "      <td>Closed</td>\n",
       "    </tr>\n",
       "    <tr>\n",
       "      <th>20</th>\n",
       "      <td>327657</td>\n",
       "      <td>internet out all the time but they have a mono...</td>\n",
       "      <td>2015-06-07</td>\n",
       "      <td>06-Jul-15</td>\n",
       "      <td>8:55:43 PM</td>\n",
       "      <td>Customer Care Call</td>\n",
       "      <td>Alexandria</td>\n",
       "      <td>Virginia</td>\n",
       "      <td>22305</td>\n",
       "      <td>Solved</td>\n",
       "      <td>No</td>\n",
       "      <td>06/2015</td>\n",
       "      <td>07 Jun</td>\n",
       "      <td>Closed</td>\n",
       "    </tr>\n",
       "    <tr>\n",
       "      <th>21</th>\n",
       "      <td>328742</td>\n",
       "      <td>horrible cable service and customer service</td>\n",
       "      <td>2015-06-08</td>\n",
       "      <td>06-Aug-15</td>\n",
       "      <td>3:18:58 PM</td>\n",
       "      <td>Internet</td>\n",
       "      <td>Alexandria</td>\n",
       "      <td>Virginia</td>\n",
       "      <td>22312</td>\n",
       "      <td>Solved</td>\n",
       "      <td>No</td>\n",
       "      <td>06/2015</td>\n",
       "      <td>08 Jun</td>\n",
       "      <td>Closed</td>\n",
       "    </tr>\n",
       "    <tr>\n",
       "      <th>22</th>\n",
       "      <td>328165</td>\n",
       "      <td>speed</td>\n",
       "      <td>2015-06-08</td>\n",
       "      <td>06-Aug-15</td>\n",
       "      <td>12:03:37 PM</td>\n",
       "      <td>Customer Care Call</td>\n",
       "      <td>Alexandria</td>\n",
       "      <td>Virginia</td>\n",
       "      <td>22304</td>\n",
       "      <td>Solved</td>\n",
       "      <td>No</td>\n",
       "      <td>06/2015</td>\n",
       "      <td>08 Jun</td>\n",
       "      <td>Closed</td>\n",
       "    </tr>\n",
       "    <tr>\n",
       "      <th>23</th>\n",
       "      <td>370538</td>\n",
       "      <td>comcast monopoly bundling practices</td>\n",
       "      <td>2015-06-27</td>\n",
       "      <td>27-Jun-15</td>\n",
       "      <td>9:04:34 PM</td>\n",
       "      <td>Internet</td>\n",
       "      <td>Alexandria</td>\n",
       "      <td>Virginia</td>\n",
       "      <td>22304</td>\n",
       "      <td>Open</td>\n",
       "      <td>No</td>\n",
       "      <td>06/2015</td>\n",
       "      <td>27 Jun</td>\n",
       "      <td>Open</td>\n",
       "    </tr>\n",
       "    <tr>\n",
       "      <th>24</th>\n",
       "      <td>370363</td>\n",
       "      <td>comcast!</td>\n",
       "      <td>2015-06-27</td>\n",
       "      <td>27-Jun-15</td>\n",
       "      <td>6:37:29 PM</td>\n",
       "      <td>Internet</td>\n",
       "      <td>Alexandria</td>\n",
       "      <td>Virginia</td>\n",
       "      <td>22305</td>\n",
       "      <td>Solved</td>\n",
       "      <td>No</td>\n",
       "      <td>06/2015</td>\n",
       "      <td>27 Jun</td>\n",
       "      <td>Closed</td>\n",
       "    </tr>\n",
       "  </tbody>\n",
       "</table>\n",
       "</div>"
      ],
      "text/plain": [
       "   Ticket #                                 Customer Complaint       Date  \\\n",
       "0    250635                      comcast cable internet speeds 2015-04-22   \n",
       "1    223441       payment disappear - service got disconnected 2015-04-08   \n",
       "2    242732                                  speed and service 2015-04-18   \n",
       "3    277946  comcast imposed a new usage cap of 300gb that ... 2015-05-07   \n",
       "4    307175         comcast not working and no service to boot 2015-05-26   \n",
       "5    338519  isp charging for arbitrary data limits with ov... 2015-06-12   \n",
       "6    361148      throttling service and unreasonable data caps 2015-06-24   \n",
       "7    359792  comcast refuses to help troubleshoot and corre... 2015-06-23   \n",
       "8    318072                           comcast extended outages 2015-06-01   \n",
       "9    371214  comcast raising prices and not being available... 2015-06-28   \n",
       "10   255938  billing after service was asked to be disconne... 2015-04-24   \n",
       "11   276409      yahoo failure to restore email search feature 2015-05-06   \n",
       "12   339282  comcast violating open internet rules by block... 2015-06-13   \n",
       "13   360178                                     internet speed 2015-06-23   \n",
       "14   376268                   internet disconnects every night 2015-06-30   \n",
       "15   370137                                 internet complaint 2015-06-27   \n",
       "16   363695                    internet availability and speed 2015-06-24   \n",
       "17   238694  comcast owes me $65 and claims i need to retur... 2015-04-16   \n",
       "18   230876                          horrible internet service 2015-04-11   \n",
       "19   318725  failure to provide services that i am billed for. 2015-06-02   \n",
       "20   327657  internet out all the time but they have a mono... 2015-06-07   \n",
       "21   328742        horrible cable service and customer service 2015-06-08   \n",
       "22   328165                                              speed 2015-06-08   \n",
       "23   370538                comcast monopoly bundling practices 2015-06-27   \n",
       "24   370363                                           comcast! 2015-06-27   \n",
       "\n",
       "   Date_month_year         Time        Received Via         City       State  \\\n",
       "0        22-Apr-15   3:53:50 PM  Customer Care Call     Abingdon    Maryland   \n",
       "1        04-Aug-15  10:22:56 AM            Internet      Acworth     Georgia   \n",
       "2        18-Apr-15   9:55:47 AM            Internet      Acworth     Georgia   \n",
       "3        05-Jul-15  11:59:35 AM            Internet      Acworth     Georgia   \n",
       "4        26-May-15   1:25:26 PM            Internet      Acworth     Georgia   \n",
       "5        06-Dec-15   9:59:40 PM            Internet      Acworth     Georgia   \n",
       "6        24-Jun-15  10:13:55 AM  Customer Care Call      Acworth     Georgia   \n",
       "7        23-Jun-15   6:56:14 PM            Internet       Adrian    Michigan   \n",
       "8        06-Jan-15  11:46:30 PM  Customer Care Call      Alameda  California   \n",
       "9        28-Jun-15   6:46:31 PM  Customer Care Call      Alameda  California   \n",
       "10       24-Apr-15   4:40:36 PM            Internet  Albuquerque  New Mexico   \n",
       "11       05-Jun-15   3:09:49 PM  Customer Care Call  Albuquerque  New Mexico   \n",
       "12       13-Jun-15   4:03:18 PM            Internet  Albuquerque  New Mexico   \n",
       "13       23-Jun-15   9:23:23 PM            Internet  Albuquerque  New Mexico   \n",
       "14       30-Jun-15  10:30:02 PM  Customer Care Call  Albuquerque  New Mexico   \n",
       "15       27-Jun-15   3:25:03 PM  Customer Care Call  Albuquerqur  New Mexico   \n",
       "16       24-Jun-15  11:47:33 PM  Customer Care Call   Alexandria     Indiana   \n",
       "17       16-Apr-15  10:04:57 AM            Internet   Alexandria    Virginia   \n",
       "18       04-Nov-15   7:48:05 PM  Customer Care Call   Alexandria    Virginia   \n",
       "19       06-Feb-15   1:03:52 PM  Customer Care Call   Alexandria    Virginia   \n",
       "20       06-Jul-15   8:55:43 PM  Customer Care Call   Alexandria    Virginia   \n",
       "21       06-Aug-15   3:18:58 PM            Internet   Alexandria    Virginia   \n",
       "22       06-Aug-15  12:03:37 PM  Customer Care Call   Alexandria    Virginia   \n",
       "23       27-Jun-15   9:04:34 PM            Internet   Alexandria    Virginia   \n",
       "24       27-Jun-15   6:37:29 PM            Internet   Alexandria    Virginia   \n",
       "\n",
       "    Zip code   Status Filing on Behalf of Someone month_year day_month  \\\n",
       "0      21009   Closed                          No    04/2015    22 Apr   \n",
       "1      30102   Closed                          No    04/2015    08 Apr   \n",
       "2      30101   Closed                         Yes    04/2015    18 Apr   \n",
       "3      30101     Open                         Yes    05/2015    07 May   \n",
       "4      30101   Solved                          No    05/2015    26 May   \n",
       "5      30101   Solved                          No    06/2015    12 Jun   \n",
       "6      30101  Pending                          No    06/2015    24 Jun   \n",
       "7      49221   Solved                          No    06/2015    23 Jun   \n",
       "8      94502   Closed                          No    06/2015    01 Jun   \n",
       "9      94501     Open                         Yes    06/2015    28 Jun   \n",
       "10     87106   Closed                          No    04/2015    24 Apr   \n",
       "11     87109   Closed                          No    05/2015    06 May   \n",
       "12     87105     Open                         Yes    06/2015    13 Jun   \n",
       "13     87113   Solved                          No    06/2015    23 Jun   \n",
       "14     87116   Solved                          No    06/2015    30 Jun   \n",
       "15     87102  Pending                          No    06/2015    27 Jun   \n",
       "16     46001   Solved                          No    06/2015    24 Jun   \n",
       "17     22304   Closed                          No    04/2015    16 Apr   \n",
       "18     22305   Closed                          No    04/2015    11 Apr   \n",
       "19     22314   Closed                          No    06/2015    02 Jun   \n",
       "20     22305   Solved                          No    06/2015    07 Jun   \n",
       "21     22312   Solved                          No    06/2015    08 Jun   \n",
       "22     22304   Solved                          No    06/2015    08 Jun   \n",
       "23     22304     Open                          No    06/2015    27 Jun   \n",
       "24     22305   Solved                          No    06/2015    27 Jun   \n",
       "\n",
       "   New_Status  \n",
       "0      Closed  \n",
       "1      Closed  \n",
       "2      Closed  \n",
       "3        Open  \n",
       "4      Closed  \n",
       "5      Closed  \n",
       "6        Open  \n",
       "7      Closed  \n",
       "8      Closed  \n",
       "9        Open  \n",
       "10     Closed  \n",
       "11     Closed  \n",
       "12       Open  \n",
       "13     Closed  \n",
       "14     Closed  \n",
       "15       Open  \n",
       "16     Closed  \n",
       "17     Closed  \n",
       "18     Closed  \n",
       "19     Closed  \n",
       "20     Closed  \n",
       "21     Closed  \n",
       "22     Closed  \n",
       "23       Open  \n",
       "24     Closed  "
      ]
     },
     "execution_count": 42,
     "metadata": {},
     "output_type": "execute_result"
    }
   ],
   "source": [
    "df.head(25)"
   ]
  },
  {
   "cell_type": "code",
   "execution_count": 43,
   "metadata": {},
   "outputs": [],
   "source": [
    "#open and pending has been categorised as open and closed and solved as closed"
   ]
  },
  {
   "cell_type": "markdown",
   "metadata": {},
   "source": [
    "## TASK-5:  Provide state wise status of complaints in a stacked bar chart. Use the categorized variable from Q3. Provide insights on:             (1) Which state has the maximum complaints                                                                                                        (2)Which state has the highest percentage of unresolved complaints                                                                                 (3)Provide the percentage of complaints resolved till date, which were received through the Internet and customer care calls.\n"
   ]
  },
  {
   "cell_type": "code",
   "execution_count": 45,
   "metadata": {},
   "outputs": [
    {
     "data": {
      "text/html": [
       "<div>\n",
       "<style scoped>\n",
       "    .dataframe tbody tr th:only-of-type {\n",
       "        vertical-align: middle;\n",
       "    }\n",
       "\n",
       "    .dataframe tbody tr th {\n",
       "        vertical-align: top;\n",
       "    }\n",
       "\n",
       "    .dataframe thead th {\n",
       "        text-align: right;\n",
       "    }\n",
       "</style>\n",
       "<table border=\"1\" class=\"dataframe\">\n",
       "  <thead>\n",
       "    <tr style=\"text-align: right;\">\n",
       "      <th>New_Status</th>\n",
       "      <th>Closed</th>\n",
       "      <th>Open</th>\n",
       "    </tr>\n",
       "    <tr>\n",
       "      <th>State</th>\n",
       "      <th></th>\n",
       "      <th></th>\n",
       "    </tr>\n",
       "  </thead>\n",
       "  <tbody>\n",
       "    <tr>\n",
       "      <th>Alabama</th>\n",
       "      <td>17.0</td>\n",
       "      <td>9.0</td>\n",
       "    </tr>\n",
       "    <tr>\n",
       "      <th>Arizona</th>\n",
       "      <td>14.0</td>\n",
       "      <td>6.0</td>\n",
       "    </tr>\n",
       "    <tr>\n",
       "      <th>Arkansas</th>\n",
       "      <td>6.0</td>\n",
       "      <td>0.0</td>\n",
       "    </tr>\n",
       "    <tr>\n",
       "      <th>California</th>\n",
       "      <td>159.0</td>\n",
       "      <td>61.0</td>\n",
       "    </tr>\n",
       "    <tr>\n",
       "      <th>Colorado</th>\n",
       "      <td>58.0</td>\n",
       "      <td>22.0</td>\n",
       "    </tr>\n",
       "    <tr>\n",
       "      <th>Connecticut</th>\n",
       "      <td>9.0</td>\n",
       "      <td>3.0</td>\n",
       "    </tr>\n",
       "    <tr>\n",
       "      <th>Delaware</th>\n",
       "      <td>8.0</td>\n",
       "      <td>4.0</td>\n",
       "    </tr>\n",
       "    <tr>\n",
       "      <th>District Of Columbia</th>\n",
       "      <td>14.0</td>\n",
       "      <td>2.0</td>\n",
       "    </tr>\n",
       "    <tr>\n",
       "      <th>District of Columbia</th>\n",
       "      <td>1.0</td>\n",
       "      <td>0.0</td>\n",
       "    </tr>\n",
       "    <tr>\n",
       "      <th>Florida</th>\n",
       "      <td>201.0</td>\n",
       "      <td>39.0</td>\n",
       "    </tr>\n",
       "    <tr>\n",
       "      <th>Georgia</th>\n",
       "      <td>208.0</td>\n",
       "      <td>80.0</td>\n",
       "    </tr>\n",
       "    <tr>\n",
       "      <th>Illinois</th>\n",
       "      <td>135.0</td>\n",
       "      <td>29.0</td>\n",
       "    </tr>\n",
       "    <tr>\n",
       "      <th>Indiana</th>\n",
       "      <td>50.0</td>\n",
       "      <td>9.0</td>\n",
       "    </tr>\n",
       "    <tr>\n",
       "      <th>Iowa</th>\n",
       "      <td>1.0</td>\n",
       "      <td>0.0</td>\n",
       "    </tr>\n",
       "    <tr>\n",
       "      <th>Kansas</th>\n",
       "      <td>1.0</td>\n",
       "      <td>1.0</td>\n",
       "    </tr>\n",
       "    <tr>\n",
       "      <th>Kentucky</th>\n",
       "      <td>4.0</td>\n",
       "      <td>3.0</td>\n",
       "    </tr>\n",
       "    <tr>\n",
       "      <th>Louisiana</th>\n",
       "      <td>12.0</td>\n",
       "      <td>1.0</td>\n",
       "    </tr>\n",
       "    <tr>\n",
       "      <th>Maine</th>\n",
       "      <td>3.0</td>\n",
       "      <td>2.0</td>\n",
       "    </tr>\n",
       "    <tr>\n",
       "      <th>Maryland</th>\n",
       "      <td>63.0</td>\n",
       "      <td>15.0</td>\n",
       "    </tr>\n",
       "    <tr>\n",
       "      <th>Massachusetts</th>\n",
       "      <td>50.0</td>\n",
       "      <td>11.0</td>\n",
       "    </tr>\n",
       "    <tr>\n",
       "      <th>Michigan</th>\n",
       "      <td>92.0</td>\n",
       "      <td>23.0</td>\n",
       "    </tr>\n",
       "    <tr>\n",
       "      <th>Minnesota</th>\n",
       "      <td>29.0</td>\n",
       "      <td>4.0</td>\n",
       "    </tr>\n",
       "    <tr>\n",
       "      <th>Mississippi</th>\n",
       "      <td>23.0</td>\n",
       "      <td>16.0</td>\n",
       "    </tr>\n",
       "    <tr>\n",
       "      <th>Missouri</th>\n",
       "      <td>3.0</td>\n",
       "      <td>1.0</td>\n",
       "    </tr>\n",
       "    <tr>\n",
       "      <th>Montana</th>\n",
       "      <td>1.0</td>\n",
       "      <td>0.0</td>\n",
       "    </tr>\n",
       "    <tr>\n",
       "      <th>Nevada</th>\n",
       "      <td>1.0</td>\n",
       "      <td>0.0</td>\n",
       "    </tr>\n",
       "    <tr>\n",
       "      <th>New Hampshire</th>\n",
       "      <td>8.0</td>\n",
       "      <td>4.0</td>\n",
       "    </tr>\n",
       "    <tr>\n",
       "      <th>New Jersey</th>\n",
       "      <td>56.0</td>\n",
       "      <td>19.0</td>\n",
       "    </tr>\n",
       "    <tr>\n",
       "      <th>New Mexico</th>\n",
       "      <td>11.0</td>\n",
       "      <td>4.0</td>\n",
       "    </tr>\n",
       "    <tr>\n",
       "      <th>New York</th>\n",
       "      <td>6.0</td>\n",
       "      <td>0.0</td>\n",
       "    </tr>\n",
       "    <tr>\n",
       "      <th>North Carolina</th>\n",
       "      <td>3.0</td>\n",
       "      <td>0.0</td>\n",
       "    </tr>\n",
       "    <tr>\n",
       "      <th>Ohio</th>\n",
       "      <td>3.0</td>\n",
       "      <td>0.0</td>\n",
       "    </tr>\n",
       "    <tr>\n",
       "      <th>Oregon</th>\n",
       "      <td>36.0</td>\n",
       "      <td>13.0</td>\n",
       "    </tr>\n",
       "    <tr>\n",
       "      <th>Pennsylvania</th>\n",
       "      <td>110.0</td>\n",
       "      <td>20.0</td>\n",
       "    </tr>\n",
       "    <tr>\n",
       "      <th>Rhode Island</th>\n",
       "      <td>1.0</td>\n",
       "      <td>0.0</td>\n",
       "    </tr>\n",
       "    <tr>\n",
       "      <th>South Carolina</th>\n",
       "      <td>15.0</td>\n",
       "      <td>3.0</td>\n",
       "    </tr>\n",
       "    <tr>\n",
       "      <th>Tennessee</th>\n",
       "      <td>96.0</td>\n",
       "      <td>47.0</td>\n",
       "    </tr>\n",
       "    <tr>\n",
       "      <th>Texas</th>\n",
       "      <td>49.0</td>\n",
       "      <td>22.0</td>\n",
       "    </tr>\n",
       "    <tr>\n",
       "      <th>Utah</th>\n",
       "      <td>16.0</td>\n",
       "      <td>6.0</td>\n",
       "    </tr>\n",
       "    <tr>\n",
       "      <th>Vermont</th>\n",
       "      <td>2.0</td>\n",
       "      <td>1.0</td>\n",
       "    </tr>\n",
       "    <tr>\n",
       "      <th>Virginia</th>\n",
       "      <td>49.0</td>\n",
       "      <td>11.0</td>\n",
       "    </tr>\n",
       "    <tr>\n",
       "      <th>Washington</th>\n",
       "      <td>75.0</td>\n",
       "      <td>23.0</td>\n",
       "    </tr>\n",
       "    <tr>\n",
       "      <th>West Virginia</th>\n",
       "      <td>8.0</td>\n",
       "      <td>3.0</td>\n",
       "    </tr>\n",
       "  </tbody>\n",
       "</table>\n",
       "</div>"
      ],
      "text/plain": [
       "New_Status            Closed  Open\n",
       "State                             \n",
       "Alabama                 17.0   9.0\n",
       "Arizona                 14.0   6.0\n",
       "Arkansas                 6.0   0.0\n",
       "California             159.0  61.0\n",
       "Colorado                58.0  22.0\n",
       "Connecticut              9.0   3.0\n",
       "Delaware                 8.0   4.0\n",
       "District Of Columbia    14.0   2.0\n",
       "District of Columbia     1.0   0.0\n",
       "Florida                201.0  39.0\n",
       "Georgia                208.0  80.0\n",
       "Illinois               135.0  29.0\n",
       "Indiana                 50.0   9.0\n",
       "Iowa                     1.0   0.0\n",
       "Kansas                   1.0   1.0\n",
       "Kentucky                 4.0   3.0\n",
       "Louisiana               12.0   1.0\n",
       "Maine                    3.0   2.0\n",
       "Maryland                63.0  15.0\n",
       "Massachusetts           50.0  11.0\n",
       "Michigan                92.0  23.0\n",
       "Minnesota               29.0   4.0\n",
       "Mississippi             23.0  16.0\n",
       "Missouri                 3.0   1.0\n",
       "Montana                  1.0   0.0\n",
       "Nevada                   1.0   0.0\n",
       "New Hampshire            8.0   4.0\n",
       "New Jersey              56.0  19.0\n",
       "New Mexico              11.0   4.0\n",
       "New York                 6.0   0.0\n",
       "North Carolina           3.0   0.0\n",
       "Ohio                     3.0   0.0\n",
       "Oregon                  36.0  13.0\n",
       "Pennsylvania           110.0  20.0\n",
       "Rhode Island             1.0   0.0\n",
       "South Carolina          15.0   3.0\n",
       "Tennessee               96.0  47.0\n",
       "Texas                   49.0  22.0\n",
       "Utah                    16.0   6.0\n",
       "Vermont                  2.0   1.0\n",
       "Virginia                49.0  11.0\n",
       "Washington              75.0  23.0\n",
       "West Virginia            8.0   3.0"
      ]
     },
     "execution_count": 45,
     "metadata": {},
     "output_type": "execute_result"
    }
   ],
   "source": [
    "Status_complaints = df.groupby([\"State\",\"New_Status\"]).size().unstack().fillna(0)\n",
    "Status_complaints"
   ]
  },
  {
   "cell_type": "code",
   "execution_count": 46,
   "metadata": {},
   "outputs": [
    {
     "data": {
      "text/plain": [
       "<AxesSubplot:xlabel='State'>"
      ]
     },
     "execution_count": 46,
     "metadata": {},
     "output_type": "execute_result"
    },
    {
     "data": {
      "image/png": "[encoded data removed]",
      "text/plain": [
       "<Figure size 936x576 with 1 Axes>"
      ]
     },
     "metadata": {
      "needs_background": "light"
     },
     "output_type": "display_data"
    }
   ],
   "source": [
    "Status_complaints.plot(kind='bar',figsize=(13,8),stacked= True)"
   ]
  },
  {
   "cell_type": "code",
   "execution_count": 47,
   "metadata": {},
   "outputs": [
    {
     "data": {
      "text/plain": [
       "' (1) Which state has the maximum complaints '"
      ]
     },
     "execution_count": 47,
     "metadata": {},
     "output_type": "execute_result"
    }
   ],
   "source": [
    "\"\"\" (1) Which state has the maximum complaints \"\"\""
   ]
  },
  {
   "cell_type": "markdown",
   "metadata": {},
   "source": [
    "\"\"\"From the stacked bar chart it is clearly evident that georgia has the highest no. of complaints\"\"\""
   ]
  },
  {
   "cell_type": "code",
   "execution_count": 48,
   "metadata": {},
   "outputs": [
    {
     "data": {
      "text/plain": [
       "'(2)Which state has the highest percentage of unresolved complaints '"
      ]
     },
     "execution_count": 48,
     "metadata": {},
     "output_type": "execute_result"
    }
   ],
   "source": [
    "\"\"\"(2)Which state has the highest percentage of unresolved complaints \"\"\""
   ]
  },
  {
   "cell_type": "code",
   "execution_count": 49,
   "metadata": {},
   "outputs": [
    {
     "data": {
      "text/plain": [
       "pandas.core.frame.DataFrame"
      ]
     },
     "execution_count": 49,
     "metadata": {},
     "output_type": "execute_result"
    }
   ],
   "source": [
    "type(Status_complaints)"
   ]
  },
  {
   "cell_type": "code",
   "execution_count": 50,
   "metadata": {},
   "outputs": [],
   "source": [
    "Status_complaints['total']=Status_complaints['Open']+Status_complaints['Closed']"
   ]
  },
  {
   "cell_type": "code",
   "execution_count": 51,
   "metadata": {},
   "outputs": [
    {
     "data": {
      "text/html": [
       "<div>\n",
       "<style scoped>\n",
       "    .dataframe tbody tr th:only-of-type {\n",
       "        vertical-align: middle;\n",
       "    }\n",
       "\n",
       "    .dataframe tbody tr th {\n",
       "        vertical-align: top;\n",
       "    }\n",
       "\n",
       "    .dataframe thead th {\n",
       "        text-align: right;\n",
       "    }\n",
       "</style>\n",
       "<table border=\"1\" class=\"dataframe\">\n",
       "  <thead>\n",
       "    <tr style=\"text-align: right;\">\n",
       "      <th>New_Status</th>\n",
       "      <th>Closed</th>\n",
       "      <th>Open</th>\n",
       "      <th>total</th>\n",
       "    </tr>\n",
       "    <tr>\n",
       "      <th>State</th>\n",
       "      <th></th>\n",
       "      <th></th>\n",
       "      <th></th>\n",
       "    </tr>\n",
       "  </thead>\n",
       "  <tbody>\n",
       "    <tr>\n",
       "      <th>Alabama</th>\n",
       "      <td>17.0</td>\n",
       "      <td>9.0</td>\n",
       "      <td>26.0</td>\n",
       "    </tr>\n",
       "    <tr>\n",
       "      <th>Arizona</th>\n",
       "      <td>14.0</td>\n",
       "      <td>6.0</td>\n",
       "      <td>20.0</td>\n",
       "    </tr>\n",
       "    <tr>\n",
       "      <th>Arkansas</th>\n",
       "      <td>6.0</td>\n",
       "      <td>0.0</td>\n",
       "      <td>6.0</td>\n",
       "    </tr>\n",
       "    <tr>\n",
       "      <th>California</th>\n",
       "      <td>159.0</td>\n",
       "      <td>61.0</td>\n",
       "      <td>220.0</td>\n",
       "    </tr>\n",
       "    <tr>\n",
       "      <th>Colorado</th>\n",
       "      <td>58.0</td>\n",
       "      <td>22.0</td>\n",
       "      <td>80.0</td>\n",
       "    </tr>\n",
       "    <tr>\n",
       "      <th>Connecticut</th>\n",
       "      <td>9.0</td>\n",
       "      <td>3.0</td>\n",
       "      <td>12.0</td>\n",
       "    </tr>\n",
       "    <tr>\n",
       "      <th>Delaware</th>\n",
       "      <td>8.0</td>\n",
       "      <td>4.0</td>\n",
       "      <td>12.0</td>\n",
       "    </tr>\n",
       "    <tr>\n",
       "      <th>District Of Columbia</th>\n",
       "      <td>14.0</td>\n",
       "      <td>2.0</td>\n",
       "      <td>16.0</td>\n",
       "    </tr>\n",
       "    <tr>\n",
       "      <th>District of Columbia</th>\n",
       "      <td>1.0</td>\n",
       "      <td>0.0</td>\n",
       "      <td>1.0</td>\n",
       "    </tr>\n",
       "    <tr>\n",
       "      <th>Florida</th>\n",
       "      <td>201.0</td>\n",
       "      <td>39.0</td>\n",
       "      <td>240.0</td>\n",
       "    </tr>\n",
       "    <tr>\n",
       "      <th>Georgia</th>\n",
       "      <td>208.0</td>\n",
       "      <td>80.0</td>\n",
       "      <td>288.0</td>\n",
       "    </tr>\n",
       "    <tr>\n",
       "      <th>Illinois</th>\n",
       "      <td>135.0</td>\n",
       "      <td>29.0</td>\n",
       "      <td>164.0</td>\n",
       "    </tr>\n",
       "    <tr>\n",
       "      <th>Indiana</th>\n",
       "      <td>50.0</td>\n",
       "      <td>9.0</td>\n",
       "      <td>59.0</td>\n",
       "    </tr>\n",
       "    <tr>\n",
       "      <th>Iowa</th>\n",
       "      <td>1.0</td>\n",
       "      <td>0.0</td>\n",
       "      <td>1.0</td>\n",
       "    </tr>\n",
       "    <tr>\n",
       "      <th>Kansas</th>\n",
       "      <td>1.0</td>\n",
       "      <td>1.0</td>\n",
       "      <td>2.0</td>\n",
       "    </tr>\n",
       "    <tr>\n",
       "      <th>Kentucky</th>\n",
       "      <td>4.0</td>\n",
       "      <td>3.0</td>\n",
       "      <td>7.0</td>\n",
       "    </tr>\n",
       "    <tr>\n",
       "      <th>Louisiana</th>\n",
       "      <td>12.0</td>\n",
       "      <td>1.0</td>\n",
       "      <td>13.0</td>\n",
       "    </tr>\n",
       "    <tr>\n",
       "      <th>Maine</th>\n",
       "      <td>3.0</td>\n",
       "      <td>2.0</td>\n",
       "      <td>5.0</td>\n",
       "    </tr>\n",
       "    <tr>\n",
       "      <th>Maryland</th>\n",
       "      <td>63.0</td>\n",
       "      <td>15.0</td>\n",
       "      <td>78.0</td>\n",
       "    </tr>\n",
       "    <tr>\n",
       "      <th>Massachusetts</th>\n",
       "      <td>50.0</td>\n",
       "      <td>11.0</td>\n",
       "      <td>61.0</td>\n",
       "    </tr>\n",
       "    <tr>\n",
       "      <th>Michigan</th>\n",
       "      <td>92.0</td>\n",
       "      <td>23.0</td>\n",
       "      <td>115.0</td>\n",
       "    </tr>\n",
       "    <tr>\n",
       "      <th>Minnesota</th>\n",
       "      <td>29.0</td>\n",
       "      <td>4.0</td>\n",
       "      <td>33.0</td>\n",
       "    </tr>\n",
       "    <tr>\n",
       "      <th>Mississippi</th>\n",
       "      <td>23.0</td>\n",
       "      <td>16.0</td>\n",
       "      <td>39.0</td>\n",
       "    </tr>\n",
       "    <tr>\n",
       "      <th>Missouri</th>\n",
       "      <td>3.0</td>\n",
       "      <td>1.0</td>\n",
       "      <td>4.0</td>\n",
       "    </tr>\n",
       "    <tr>\n",
       "      <th>Montana</th>\n",
       "      <td>1.0</td>\n",
       "      <td>0.0</td>\n",
       "      <td>1.0</td>\n",
       "    </tr>\n",
       "    <tr>\n",
       "      <th>Nevada</th>\n",
       "      <td>1.0</td>\n",
       "      <td>0.0</td>\n",
       "      <td>1.0</td>\n",
       "    </tr>\n",
       "    <tr>\n",
       "      <th>New Hampshire</th>\n",
       "      <td>8.0</td>\n",
       "      <td>4.0</td>\n",
       "      <td>12.0</td>\n",
       "    </tr>\n",
       "    <tr>\n",
       "      <th>New Jersey</th>\n",
       "      <td>56.0</td>\n",
       "      <td>19.0</td>\n",
       "      <td>75.0</td>\n",
       "    </tr>\n",
       "    <tr>\n",
       "      <th>New Mexico</th>\n",
       "      <td>11.0</td>\n",
       "      <td>4.0</td>\n",
       "      <td>15.0</td>\n",
       "    </tr>\n",
       "    <tr>\n",
       "      <th>New York</th>\n",
       "      <td>6.0</td>\n",
       "      <td>0.0</td>\n",
       "      <td>6.0</td>\n",
       "    </tr>\n",
       "    <tr>\n",
       "      <th>North Carolina</th>\n",
       "      <td>3.0</td>\n",
       "      <td>0.0</td>\n",
       "      <td>3.0</td>\n",
       "    </tr>\n",
       "    <tr>\n",
       "      <th>Ohio</th>\n",
       "      <td>3.0</td>\n",
       "      <td>0.0</td>\n",
       "      <td>3.0</td>\n",
       "    </tr>\n",
       "    <tr>\n",
       "      <th>Oregon</th>\n",
       "      <td>36.0</td>\n",
       "      <td>13.0</td>\n",
       "      <td>49.0</td>\n",
       "    </tr>\n",
       "    <tr>\n",
       "      <th>Pennsylvania</th>\n",
       "      <td>110.0</td>\n",
       "      <td>20.0</td>\n",
       "      <td>130.0</td>\n",
       "    </tr>\n",
       "    <tr>\n",
       "      <th>Rhode Island</th>\n",
       "      <td>1.0</td>\n",
       "      <td>0.0</td>\n",
       "      <td>1.0</td>\n",
       "    </tr>\n",
       "    <tr>\n",
       "      <th>South Carolina</th>\n",
       "      <td>15.0</td>\n",
       "      <td>3.0</td>\n",
       "      <td>18.0</td>\n",
       "    </tr>\n",
       "    <tr>\n",
       "      <th>Tennessee</th>\n",
       "      <td>96.0</td>\n",
       "      <td>47.0</td>\n",
       "      <td>143.0</td>\n",
       "    </tr>\n",
       "    <tr>\n",
       "      <th>Texas</th>\n",
       "      <td>49.0</td>\n",
       "      <td>22.0</td>\n",
       "      <td>71.0</td>\n",
       "    </tr>\n",
       "    <tr>\n",
       "      <th>Utah</th>\n",
       "      <td>16.0</td>\n",
       "      <td>6.0</td>\n",
       "      <td>22.0</td>\n",
       "    </tr>\n",
       "    <tr>\n",
       "      <th>Vermont</th>\n",
       "      <td>2.0</td>\n",
       "      <td>1.0</td>\n",
       "      <td>3.0</td>\n",
       "    </tr>\n",
       "    <tr>\n",
       "      <th>Virginia</th>\n",
       "      <td>49.0</td>\n",
       "      <td>11.0</td>\n",
       "      <td>60.0</td>\n",
       "    </tr>\n",
       "    <tr>\n",
       "      <th>Washington</th>\n",
       "      <td>75.0</td>\n",
       "      <td>23.0</td>\n",
       "      <td>98.0</td>\n",
       "    </tr>\n",
       "    <tr>\n",
       "      <th>West Virginia</th>\n",
       "      <td>8.0</td>\n",
       "      <td>3.0</td>\n",
       "      <td>11.0</td>\n",
       "    </tr>\n",
       "  </tbody>\n",
       "</table>\n",
       "</div>"
      ],
      "text/plain": [
       "New_Status            Closed  Open  total\n",
       "State                                    \n",
       "Alabama                 17.0   9.0   26.0\n",
       "Arizona                 14.0   6.0   20.0\n",
       "Arkansas                 6.0   0.0    6.0\n",
       "California             159.0  61.0  220.0\n",
       "Colorado                58.0  22.0   80.0\n",
       "Connecticut              9.0   3.0   12.0\n",
       "Delaware                 8.0   4.0   12.0\n",
       "District Of Columbia    14.0   2.0   16.0\n",
       "District of Columbia     1.0   0.0    1.0\n",
       "Florida                201.0  39.0  240.0\n",
       "Georgia                208.0  80.0  288.0\n",
       "Illinois               135.0  29.0  164.0\n",
       "Indiana                 50.0   9.0   59.0\n",
       "Iowa                     1.0   0.0    1.0\n",
       "Kansas                   1.0   1.0    2.0\n",
       "Kentucky                 4.0   3.0    7.0\n",
       "Louisiana               12.0   1.0   13.0\n",
       "Maine                    3.0   2.0    5.0\n",
       "Maryland                63.0  15.0   78.0\n",
       "Massachusetts           50.0  11.0   61.0\n",
       "Michigan                92.0  23.0  115.0\n",
       "Minnesota               29.0   4.0   33.0\n",
       "Mississippi             23.0  16.0   39.0\n",
       "Missouri                 3.0   1.0    4.0\n",
       "Montana                  1.0   0.0    1.0\n",
       "Nevada                   1.0   0.0    1.0\n",
       "New Hampshire            8.0   4.0   12.0\n",
       "New Jersey              56.0  19.0   75.0\n",
       "New Mexico              11.0   4.0   15.0\n",
       "New York                 6.0   0.0    6.0\n",
       "North Carolina           3.0   0.0    3.0\n",
       "Ohio                     3.0   0.0    3.0\n",
       "Oregon                  36.0  13.0   49.0\n",
       "Pennsylvania           110.0  20.0  130.0\n",
       "Rhode Island             1.0   0.0    1.0\n",
       "South Carolina          15.0   3.0   18.0\n",
       "Tennessee               96.0  47.0  143.0\n",
       "Texas                   49.0  22.0   71.0\n",
       "Utah                    16.0   6.0   22.0\n",
       "Vermont                  2.0   1.0    3.0\n",
       "Virginia                49.0  11.0   60.0\n",
       "Washington              75.0  23.0   98.0\n",
       "West Virginia            8.0   3.0   11.0"
      ]
     },
     "execution_count": 51,
     "metadata": {},
     "output_type": "execute_result"
    }
   ],
   "source": [
    "Status_complaints"
   ]
  },
  {
   "cell_type": "code",
   "execution_count": 52,
   "metadata": {},
   "outputs": [],
   "source": [
    "Status_complaints['percent_unresolved']=Status_complaints['Open']/Status_complaints['total']*100"
   ]
  },
  {
   "cell_type": "code",
   "execution_count": 53,
   "metadata": {},
   "outputs": [
    {
     "data": {
      "text/html": [
       "<div>\n",
       "<style scoped>\n",
       "    .dataframe tbody tr th:only-of-type {\n",
       "        vertical-align: middle;\n",
       "    }\n",
       "\n",
       "    .dataframe tbody tr th {\n",
       "        vertical-align: top;\n",
       "    }\n",
       "\n",
       "    .dataframe thead th {\n",
       "        text-align: right;\n",
       "    }\n",
       "</style>\n",
       "<table border=\"1\" class=\"dataframe\">\n",
       "  <thead>\n",
       "    <tr style=\"text-align: right;\">\n",
       "      <th>New_Status</th>\n",
       "      <th>Closed</th>\n",
       "      <th>Open</th>\n",
       "      <th>total</th>\n",
       "      <th>percent_unresolved</th>\n",
       "    </tr>\n",
       "    <tr>\n",
       "      <th>State</th>\n",
       "      <th></th>\n",
       "      <th></th>\n",
       "      <th></th>\n",
       "      <th></th>\n",
       "    </tr>\n",
       "  </thead>\n",
       "  <tbody>\n",
       "    <tr>\n",
       "      <th>Alabama</th>\n",
       "      <td>17.0</td>\n",
       "      <td>9.0</td>\n",
       "      <td>26.0</td>\n",
       "      <td>34.615385</td>\n",
       "    </tr>\n",
       "    <tr>\n",
       "      <th>Arizona</th>\n",
       "      <td>14.0</td>\n",
       "      <td>6.0</td>\n",
       "      <td>20.0</td>\n",
       "      <td>30.000000</td>\n",
       "    </tr>\n",
       "    <tr>\n",
       "      <th>Arkansas</th>\n",
       "      <td>6.0</td>\n",
       "      <td>0.0</td>\n",
       "      <td>6.0</td>\n",
       "      <td>0.000000</td>\n",
       "    </tr>\n",
       "    <tr>\n",
       "      <th>California</th>\n",
       "      <td>159.0</td>\n",
       "      <td>61.0</td>\n",
       "      <td>220.0</td>\n",
       "      <td>27.727273</td>\n",
       "    </tr>\n",
       "    <tr>\n",
       "      <th>Colorado</th>\n",
       "      <td>58.0</td>\n",
       "      <td>22.0</td>\n",
       "      <td>80.0</td>\n",
       "      <td>27.500000</td>\n",
       "    </tr>\n",
       "    <tr>\n",
       "      <th>Connecticut</th>\n",
       "      <td>9.0</td>\n",
       "      <td>3.0</td>\n",
       "      <td>12.0</td>\n",
       "      <td>25.000000</td>\n",
       "    </tr>\n",
       "    <tr>\n",
       "      <th>Delaware</th>\n",
       "      <td>8.0</td>\n",
       "      <td>4.0</td>\n",
       "      <td>12.0</td>\n",
       "      <td>33.333333</td>\n",
       "    </tr>\n",
       "    <tr>\n",
       "      <th>District Of Columbia</th>\n",
       "      <td>14.0</td>\n",
       "      <td>2.0</td>\n",
       "      <td>16.0</td>\n",
       "      <td>12.500000</td>\n",
       "    </tr>\n",
       "    <tr>\n",
       "      <th>District of Columbia</th>\n",
       "      <td>1.0</td>\n",
       "      <td>0.0</td>\n",
       "      <td>1.0</td>\n",
       "      <td>0.000000</td>\n",
       "    </tr>\n",
       "    <tr>\n",
       "      <th>Florida</th>\n",
       "      <td>201.0</td>\n",
       "      <td>39.0</td>\n",
       "      <td>240.0</td>\n",
       "      <td>16.250000</td>\n",
       "    </tr>\n",
       "    <tr>\n",
       "      <th>Georgia</th>\n",
       "      <td>208.0</td>\n",
       "      <td>80.0</td>\n",
       "      <td>288.0</td>\n",
       "      <td>27.777778</td>\n",
       "    </tr>\n",
       "    <tr>\n",
       "      <th>Illinois</th>\n",
       "      <td>135.0</td>\n",
       "      <td>29.0</td>\n",
       "      <td>164.0</td>\n",
       "      <td>17.682927</td>\n",
       "    </tr>\n",
       "    <tr>\n",
       "      <th>Indiana</th>\n",
       "      <td>50.0</td>\n",
       "      <td>9.0</td>\n",
       "      <td>59.0</td>\n",
       "      <td>15.254237</td>\n",
       "    </tr>\n",
       "    <tr>\n",
       "      <th>Iowa</th>\n",
       "      <td>1.0</td>\n",
       "      <td>0.0</td>\n",
       "      <td>1.0</td>\n",
       "      <td>0.000000</td>\n",
       "    </tr>\n",
       "    <tr>\n",
       "      <th>Kansas</th>\n",
       "      <td>1.0</td>\n",
       "      <td>1.0</td>\n",
       "      <td>2.0</td>\n",
       "      <td>50.000000</td>\n",
       "    </tr>\n",
       "    <tr>\n",
       "      <th>Kentucky</th>\n",
       "      <td>4.0</td>\n",
       "      <td>3.0</td>\n",
       "      <td>7.0</td>\n",
       "      <td>42.857143</td>\n",
       "    </tr>\n",
       "    <tr>\n",
       "      <th>Louisiana</th>\n",
       "      <td>12.0</td>\n",
       "      <td>1.0</td>\n",
       "      <td>13.0</td>\n",
       "      <td>7.692308</td>\n",
       "    </tr>\n",
       "    <tr>\n",
       "      <th>Maine</th>\n",
       "      <td>3.0</td>\n",
       "      <td>2.0</td>\n",
       "      <td>5.0</td>\n",
       "      <td>40.000000</td>\n",
       "    </tr>\n",
       "    <tr>\n",
       "      <th>Maryland</th>\n",
       "      <td>63.0</td>\n",
       "      <td>15.0</td>\n",
       "      <td>78.0</td>\n",
       "      <td>19.230769</td>\n",
       "    </tr>\n",
       "    <tr>\n",
       "      <th>Massachusetts</th>\n",
       "      <td>50.0</td>\n",
       "      <td>11.0</td>\n",
       "      <td>61.0</td>\n",
       "      <td>18.032787</td>\n",
       "    </tr>\n",
       "    <tr>\n",
       "      <th>Michigan</th>\n",
       "      <td>92.0</td>\n",
       "      <td>23.0</td>\n",
       "      <td>115.0</td>\n",
       "      <td>20.000000</td>\n",
       "    </tr>\n",
       "    <tr>\n",
       "      <th>Minnesota</th>\n",
       "      <td>29.0</td>\n",
       "      <td>4.0</td>\n",
       "      <td>33.0</td>\n",
       "      <td>12.121212</td>\n",
       "    </tr>\n",
       "    <tr>\n",
       "      <th>Mississippi</th>\n",
       "      <td>23.0</td>\n",
       "      <td>16.0</td>\n",
       "      <td>39.0</td>\n",
       "      <td>41.025641</td>\n",
       "    </tr>\n",
       "    <tr>\n",
       "      <th>Missouri</th>\n",
       "      <td>3.0</td>\n",
       "      <td>1.0</td>\n",
       "      <td>4.0</td>\n",
       "      <td>25.000000</td>\n",
       "    </tr>\n",
       "    <tr>\n",
       "      <th>Montana</th>\n",
       "      <td>1.0</td>\n",
       "      <td>0.0</td>\n",
       "      <td>1.0</td>\n",
       "      <td>0.000000</td>\n",
       "    </tr>\n",
       "    <tr>\n",
       "      <th>Nevada</th>\n",
       "      <td>1.0</td>\n",
       "      <td>0.0</td>\n",
       "      <td>1.0</td>\n",
       "      <td>0.000000</td>\n",
       "    </tr>\n",
       "    <tr>\n",
       "      <th>New Hampshire</th>\n",
       "      <td>8.0</td>\n",
       "      <td>4.0</td>\n",
       "      <td>12.0</td>\n",
       "      <td>33.333333</td>\n",
       "    </tr>\n",
       "    <tr>\n",
       "      <th>New Jersey</th>\n",
       "      <td>56.0</td>\n",
       "      <td>19.0</td>\n",
       "      <td>75.0</td>\n",
       "      <td>25.333333</td>\n",
       "    </tr>\n",
       "    <tr>\n",
       "      <th>New Mexico</th>\n",
       "      <td>11.0</td>\n",
       "      <td>4.0</td>\n",
       "      <td>15.0</td>\n",
       "      <td>26.666667</td>\n",
       "    </tr>\n",
       "    <tr>\n",
       "      <th>New York</th>\n",
       "      <td>6.0</td>\n",
       "      <td>0.0</td>\n",
       "      <td>6.0</td>\n",
       "      <td>0.000000</td>\n",
       "    </tr>\n",
       "    <tr>\n",
       "      <th>North Carolina</th>\n",
       "      <td>3.0</td>\n",
       "      <td>0.0</td>\n",
       "      <td>3.0</td>\n",
       "      <td>0.000000</td>\n",
       "    </tr>\n",
       "    <tr>\n",
       "      <th>Ohio</th>\n",
       "      <td>3.0</td>\n",
       "      <td>0.0</td>\n",
       "      <td>3.0</td>\n",
       "      <td>0.000000</td>\n",
       "    </tr>\n",
       "    <tr>\n",
       "      <th>Oregon</th>\n",
       "      <td>36.0</td>\n",
       "      <td>13.0</td>\n",
       "      <td>49.0</td>\n",
       "      <td>26.530612</td>\n",
       "    </tr>\n",
       "    <tr>\n",
       "      <th>Pennsylvania</th>\n",
       "      <td>110.0</td>\n",
       "      <td>20.0</td>\n",
       "      <td>130.0</td>\n",
       "      <td>15.384615</td>\n",
       "    </tr>\n",
       "    <tr>\n",
       "      <th>Rhode Island</th>\n",
       "      <td>1.0</td>\n",
       "      <td>0.0</td>\n",
       "      <td>1.0</td>\n",
       "      <td>0.000000</td>\n",
       "    </tr>\n",
       "    <tr>\n",
       "      <th>South Carolina</th>\n",
       "      <td>15.0</td>\n",
       "      <td>3.0</td>\n",
       "      <td>18.0</td>\n",
       "      <td>16.666667</td>\n",
       "    </tr>\n",
       "    <tr>\n",
       "      <th>Tennessee</th>\n",
       "      <td>96.0</td>\n",
       "      <td>47.0</td>\n",
       "      <td>143.0</td>\n",
       "      <td>32.867133</td>\n",
       "    </tr>\n",
       "    <tr>\n",
       "      <th>Texas</th>\n",
       "      <td>49.0</td>\n",
       "      <td>22.0</td>\n",
       "      <td>71.0</td>\n",
       "      <td>30.985915</td>\n",
       "    </tr>\n",
       "    <tr>\n",
       "      <th>Utah</th>\n",
       "      <td>16.0</td>\n",
       "      <td>6.0</td>\n",
       "      <td>22.0</td>\n",
       "      <td>27.272727</td>\n",
       "    </tr>\n",
       "    <tr>\n",
       "      <th>Vermont</th>\n",
       "      <td>2.0</td>\n",
       "      <td>1.0</td>\n",
       "      <td>3.0</td>\n",
       "      <td>33.333333</td>\n",
       "    </tr>\n",
       "    <tr>\n",
       "      <th>Virginia</th>\n",
       "      <td>49.0</td>\n",
       "      <td>11.0</td>\n",
       "      <td>60.0</td>\n",
       "      <td>18.333333</td>\n",
       "    </tr>\n",
       "    <tr>\n",
       "      <th>Washington</th>\n",
       "      <td>75.0</td>\n",
       "      <td>23.0</td>\n",
       "      <td>98.0</td>\n",
       "      <td>23.469388</td>\n",
       "    </tr>\n",
       "    <tr>\n",
       "      <th>West Virginia</th>\n",
       "      <td>8.0</td>\n",
       "      <td>3.0</td>\n",
       "      <td>11.0</td>\n",
       "      <td>27.272727</td>\n",
       "    </tr>\n",
       "  </tbody>\n",
       "</table>\n",
       "</div>"
      ],
      "text/plain": [
       "New_Status            Closed  Open  total  percent_unresolved\n",
       "State                                                        \n",
       "Alabama                 17.0   9.0   26.0           34.615385\n",
       "Arizona                 14.0   6.0   20.0           30.000000\n",
       "Arkansas                 6.0   0.0    6.0            0.000000\n",
       "California             159.0  61.0  220.0           27.727273\n",
       "Colorado                58.0  22.0   80.0           27.500000\n",
       "Connecticut              9.0   3.0   12.0           25.000000\n",
       "Delaware                 8.0   4.0   12.0           33.333333\n",
       "District Of Columbia    14.0   2.0   16.0           12.500000\n",
       "District of Columbia     1.0   0.0    1.0            0.000000\n",
       "Florida                201.0  39.0  240.0           16.250000\n",
       "Georgia                208.0  80.0  288.0           27.777778\n",
       "Illinois               135.0  29.0  164.0           17.682927\n",
       "Indiana                 50.0   9.0   59.0           15.254237\n",
       "Iowa                     1.0   0.0    1.0            0.000000\n",
       "Kansas                   1.0   1.0    2.0           50.000000\n",
       "Kentucky                 4.0   3.0    7.0           42.857143\n",
       "Louisiana               12.0   1.0   13.0            7.692308\n",
       "Maine                    3.0   2.0    5.0           40.000000\n",
       "Maryland                63.0  15.0   78.0           19.230769\n",
       "Massachusetts           50.0  11.0   61.0           18.032787\n",
       "Michigan                92.0  23.0  115.0           20.000000\n",
       "Minnesota               29.0   4.0   33.0           12.121212\n",
       "Mississippi             23.0  16.0   39.0           41.025641\n",
       "Missouri                 3.0   1.0    4.0           25.000000\n",
       "Montana                  1.0   0.0    1.0            0.000000\n",
       "Nevada                   1.0   0.0    1.0            0.000000\n",
       "New Hampshire            8.0   4.0   12.0           33.333333\n",
       "New Jersey              56.0  19.0   75.0           25.333333\n",
       "New Mexico              11.0   4.0   15.0           26.666667\n",
       "New York                 6.0   0.0    6.0            0.000000\n",
       "North Carolina           3.0   0.0    3.0            0.000000\n",
       "Ohio                     3.0   0.0    3.0            0.000000\n",
       "Oregon                  36.0  13.0   49.0           26.530612\n",
       "Pennsylvania           110.0  20.0  130.0           15.384615\n",
       "Rhode Island             1.0   0.0    1.0            0.000000\n",
       "South Carolina          15.0   3.0   18.0           16.666667\n",
       "Tennessee               96.0  47.0  143.0           32.867133\n",
       "Texas                   49.0  22.0   71.0           30.985915\n",
       "Utah                    16.0   6.0   22.0           27.272727\n",
       "Vermont                  2.0   1.0    3.0           33.333333\n",
       "Virginia                49.0  11.0   60.0           18.333333\n",
       "Washington              75.0  23.0   98.0           23.469388\n",
       "West Virginia            8.0   3.0   11.0           27.272727"
      ]
     },
     "execution_count": 53,
     "metadata": {},
     "output_type": "execute_result"
    }
   ],
   "source": [
    "Status_complaints"
   ]
  },
  {
   "cell_type": "code",
   "execution_count": null,
   "metadata": {},
   "outputs": [],
   "source": [
    "# highest percentages of unresolved complaints"
   ]
  },
  {
   "cell_type": "code",
   "execution_count": 54,
   "metadata": {},
   "outputs": [
    {
     "data": {
      "text/plain": [
       "50.0"
      ]
     },
     "execution_count": 54,
     "metadata": {},
     "output_type": "execute_result"
    }
   ],
   "source": [
    "Status_complaints['percent_unresolved'].max()"
   ]
  },
  {
   "cell_type": "code",
   "execution_count": 55,
   "metadata": {},
   "outputs": [
    {
     "data": {
      "text/html": [
       "<div>\n",
       "<style scoped>\n",
       "    .dataframe tbody tr th:only-of-type {\n",
       "        vertical-align: middle;\n",
       "    }\n",
       "\n",
       "    .dataframe tbody tr th {\n",
       "        vertical-align: top;\n",
       "    }\n",
       "\n",
       "    .dataframe thead th {\n",
       "        text-align: right;\n",
       "    }\n",
       "</style>\n",
       "<table border=\"1\" class=\"dataframe\">\n",
       "  <thead>\n",
       "    <tr style=\"text-align: right;\">\n",
       "      <th>New_Status</th>\n",
       "      <th>Closed</th>\n",
       "      <th>Open</th>\n",
       "      <th>total</th>\n",
       "      <th>percent_unresolved</th>\n",
       "    </tr>\n",
       "    <tr>\n",
       "      <th>State</th>\n",
       "      <th></th>\n",
       "      <th></th>\n",
       "      <th></th>\n",
       "      <th></th>\n",
       "    </tr>\n",
       "  </thead>\n",
       "  <tbody>\n",
       "    <tr>\n",
       "      <th>Kansas</th>\n",
       "      <td>1.0</td>\n",
       "      <td>1.0</td>\n",
       "      <td>2.0</td>\n",
       "      <td>50.0</td>\n",
       "    </tr>\n",
       "  </tbody>\n",
       "</table>\n",
       "</div>"
      ],
      "text/plain": [
       "New_Status  Closed  Open  total  percent_unresolved\n",
       "State                                              \n",
       "Kansas         1.0   1.0    2.0                50.0"
      ]
     },
     "execution_count": 55,
     "metadata": {},
     "output_type": "execute_result"
    }
   ],
   "source": [
    "Status_complaints[Status_complaints['percent_unresolved']==Status_complaints['percent_unresolved'].max()]"
   ]
  },
  {
   "cell_type": "code",
   "execution_count": 78,
   "metadata": {},
   "outputs": [],
   "source": [
    "#This shows state- Kansas has highest no. of unresolved complaint percentage wise."
   ]
  },
  {
   "cell_type": "markdown",
   "metadata": {},
   "source": [
    "## TASK :Provide the percentage of complaints resolved till date, which were received through the Internet and customer care calls."
   ]
  },
  {
   "cell_type": "code",
   "execution_count": 57,
   "metadata": {},
   "outputs": [
    {
     "data": {
      "text/html": [
       "<div>\n",
       "<style scoped>\n",
       "    .dataframe tbody tr th:only-of-type {\n",
       "        vertical-align: middle;\n",
       "    }\n",
       "\n",
       "    .dataframe tbody tr th {\n",
       "        vertical-align: top;\n",
       "    }\n",
       "\n",
       "    .dataframe thead th {\n",
       "        text-align: right;\n",
       "    }\n",
       "</style>\n",
       "<table border=\"1\" class=\"dataframe\">\n",
       "  <thead>\n",
       "    <tr style=\"text-align: right;\">\n",
       "      <th></th>\n",
       "      <th>Ticket #</th>\n",
       "      <th>Customer Complaint</th>\n",
       "      <th>Date</th>\n",
       "      <th>Date_month_year</th>\n",
       "      <th>Time</th>\n",
       "      <th>Received Via</th>\n",
       "      <th>City</th>\n",
       "      <th>State</th>\n",
       "      <th>Zip code</th>\n",
       "      <th>Status</th>\n",
       "      <th>Filing on Behalf of Someone</th>\n",
       "      <th>month_year</th>\n",
       "      <th>day_month</th>\n",
       "      <th>New_Status</th>\n",
       "    </tr>\n",
       "  </thead>\n",
       "  <tbody>\n",
       "    <tr>\n",
       "      <th>0</th>\n",
       "      <td>250635</td>\n",
       "      <td>comcast cable internet speeds</td>\n",
       "      <td>2015-04-22</td>\n",
       "      <td>22-Apr-15</td>\n",
       "      <td>3:53:50 PM</td>\n",
       "      <td>Customer Care Call</td>\n",
       "      <td>Abingdon</td>\n",
       "      <td>Maryland</td>\n",
       "      <td>21009</td>\n",
       "      <td>Closed</td>\n",
       "      <td>No</td>\n",
       "      <td>04/2015</td>\n",
       "      <td>22 Apr</td>\n",
       "      <td>Closed</td>\n",
       "    </tr>\n",
       "    <tr>\n",
       "      <th>1</th>\n",
       "      <td>223441</td>\n",
       "      <td>payment disappear - service got disconnected</td>\n",
       "      <td>2015-04-08</td>\n",
       "      <td>04-Aug-15</td>\n",
       "      <td>10:22:56 AM</td>\n",
       "      <td>Internet</td>\n",
       "      <td>Acworth</td>\n",
       "      <td>Georgia</td>\n",
       "      <td>30102</td>\n",
       "      <td>Closed</td>\n",
       "      <td>No</td>\n",
       "      <td>04/2015</td>\n",
       "      <td>08 Apr</td>\n",
       "      <td>Closed</td>\n",
       "    </tr>\n",
       "    <tr>\n",
       "      <th>2</th>\n",
       "      <td>242732</td>\n",
       "      <td>speed and service</td>\n",
       "      <td>2015-04-18</td>\n",
       "      <td>18-Apr-15</td>\n",
       "      <td>9:55:47 AM</td>\n",
       "      <td>Internet</td>\n",
       "      <td>Acworth</td>\n",
       "      <td>Georgia</td>\n",
       "      <td>30101</td>\n",
       "      <td>Closed</td>\n",
       "      <td>Yes</td>\n",
       "      <td>04/2015</td>\n",
       "      <td>18 Apr</td>\n",
       "      <td>Closed</td>\n",
       "    </tr>\n",
       "    <tr>\n",
       "      <th>3</th>\n",
       "      <td>277946</td>\n",
       "      <td>comcast imposed a new usage cap of 300gb that ...</td>\n",
       "      <td>2015-05-07</td>\n",
       "      <td>05-Jul-15</td>\n",
       "      <td>11:59:35 AM</td>\n",
       "      <td>Internet</td>\n",
       "      <td>Acworth</td>\n",
       "      <td>Georgia</td>\n",
       "      <td>30101</td>\n",
       "      <td>Open</td>\n",
       "      <td>Yes</td>\n",
       "      <td>05/2015</td>\n",
       "      <td>07 May</td>\n",
       "      <td>Open</td>\n",
       "    </tr>\n",
       "    <tr>\n",
       "      <th>4</th>\n",
       "      <td>307175</td>\n",
       "      <td>comcast not working and no service to boot</td>\n",
       "      <td>2015-05-26</td>\n",
       "      <td>26-May-15</td>\n",
       "      <td>1:25:26 PM</td>\n",
       "      <td>Internet</td>\n",
       "      <td>Acworth</td>\n",
       "      <td>Georgia</td>\n",
       "      <td>30101</td>\n",
       "      <td>Solved</td>\n",
       "      <td>No</td>\n",
       "      <td>05/2015</td>\n",
       "      <td>26 May</td>\n",
       "      <td>Closed</td>\n",
       "    </tr>\n",
       "  </tbody>\n",
       "</table>\n",
       "</div>"
      ],
      "text/plain": [
       "  Ticket #                                 Customer Complaint       Date  \\\n",
       "0   250635                      comcast cable internet speeds 2015-04-22   \n",
       "1   223441       payment disappear - service got disconnected 2015-04-08   \n",
       "2   242732                                  speed and service 2015-04-18   \n",
       "3   277946  comcast imposed a new usage cap of 300gb that ... 2015-05-07   \n",
       "4   307175         comcast not working and no service to boot 2015-05-26   \n",
       "\n",
       "  Date_month_year         Time        Received Via      City     State  \\\n",
       "0       22-Apr-15   3:53:50 PM  Customer Care Call  Abingdon  Maryland   \n",
       "1       04-Aug-15  10:22:56 AM            Internet   Acworth   Georgia   \n",
       "2       18-Apr-15   9:55:47 AM            Internet   Acworth   Georgia   \n",
       "3       05-Jul-15  11:59:35 AM            Internet   Acworth   Georgia   \n",
       "4       26-May-15   1:25:26 PM            Internet   Acworth   Georgia   \n",
       "\n",
       "   Zip code  Status Filing on Behalf of Someone month_year day_month  \\\n",
       "0     21009  Closed                          No    04/2015    22 Apr   \n",
       "1     30102  Closed                          No    04/2015    08 Apr   \n",
       "2     30101  Closed                         Yes    04/2015    18 Apr   \n",
       "3     30101    Open                         Yes    05/2015    07 May   \n",
       "4     30101  Solved                          No    05/2015    26 May   \n",
       "\n",
       "  New_Status  \n",
       "0     Closed  \n",
       "1     Closed  \n",
       "2     Closed  \n",
       "3       Open  \n",
       "4     Closed  "
      ]
     },
     "execution_count": 57,
     "metadata": {},
     "output_type": "execute_result"
    }
   ],
   "source": [
    "df.head(5)"
   ]
  },
  {
   "cell_type": "code",
   "execution_count": 58,
   "metadata": {},
   "outputs": [],
   "source": [
    "#percentage of complaints resolved till date, which were received through the Internet."
   ]
  },
  {
   "cell_type": "code",
   "execution_count": 59,
   "metadata": {},
   "outputs": [],
   "source": [
    "df2=df.loc[df['Received Via']==\"Internet\",'New_Status']"
   ]
  },
  {
   "cell_type": "code",
   "execution_count": 60,
   "metadata": {},
   "outputs": [
    {
     "data": {
      "text/plain": [
       "Closed    843\n",
       "Open      262\n",
       "Name: New_Status, dtype: int64"
      ]
     },
     "execution_count": 60,
     "metadata": {},
     "output_type": "execute_result"
    }
   ],
   "source": [
    "df2.value_counts()"
   ]
  },
  {
   "cell_type": "code",
   "execution_count": 61,
   "metadata": {},
   "outputs": [],
   "source": [
    "Closed_i=843"
   ]
  },
  {
   "cell_type": "code",
   "execution_count": 62,
   "metadata": {},
   "outputs": [],
   "source": [
    "Open_i=262"
   ]
  },
  {
   "cell_type": "code",
   "execution_count": 63,
   "metadata": {},
   "outputs": [],
   "source": [
    "percentage_complaints_resolved_i=(Closed_i/(Closed_i+Open_i))*100"
   ]
  },
  {
   "cell_type": "code",
   "execution_count": 64,
   "metadata": {},
   "outputs": [
    {
     "data": {
      "text/plain": [
       "76.289592760181"
      ]
     },
     "execution_count": 64,
     "metadata": {},
     "output_type": "execute_result"
    }
   ],
   "source": [
    "percentage_complaints_resolved_i"
   ]
  },
  {
   "cell_type": "code",
   "execution_count": 65,
   "metadata": {},
   "outputs": [],
   "source": [
    "#percentage of complaints resolved till date, which were received through customer care calls.\n"
   ]
  },
  {
   "cell_type": "code",
   "execution_count": 66,
   "metadata": {},
   "outputs": [],
   "source": [
    "df3=df.loc[df['Received Via']==\"Customer Care Call\",'New_Status']"
   ]
  },
  {
   "cell_type": "code",
   "execution_count": 67,
   "metadata": {},
   "outputs": [
    {
     "data": {
      "text/plain": [
       "Closed    864\n",
       "Open      255\n",
       "Name: New_Status, dtype: int64"
      ]
     },
     "execution_count": 67,
     "metadata": {},
     "output_type": "execute_result"
    }
   ],
   "source": [
    "df3.value_counts()"
   ]
  },
  {
   "cell_type": "code",
   "execution_count": 68,
   "metadata": {},
   "outputs": [],
   "source": [
    "Closed_c=864"
   ]
  },
  {
   "cell_type": "code",
   "execution_count": 69,
   "metadata": {},
   "outputs": [],
   "source": [
    "Open_c=255"
   ]
  },
  {
   "cell_type": "code",
   "execution_count": 70,
   "metadata": {},
   "outputs": [],
   "source": [
    "percentage_complaints_resolved_c=(Closed_c/(Closed_c+Open_c))*100"
   ]
  },
  {
   "cell_type": "code",
   "execution_count": 71,
   "metadata": {},
   "outputs": [
    {
     "data": {
      "text/plain": [
       "77.21179624664879"
      ]
     },
     "execution_count": 71,
     "metadata": {},
     "output_type": "execute_result"
    }
   ],
   "source": [
    "percentage_complaints_resolved_c"
   ]
  },
  {
   "cell_type": "code",
   "execution_count": 72,
   "metadata": {},
   "outputs": [],
   "source": [
    "# Total percentage of complaints resolved till date, which were received both through the Internet and customer care calls\n"
   ]
  },
  {
   "cell_type": "code",
   "execution_count": 73,
   "metadata": {},
   "outputs": [
    {
     "data": {
      "text/plain": [
       "Closed    1707\n",
       "Open       517\n",
       "Name: New_Status, dtype: int64"
      ]
     },
     "execution_count": 73,
     "metadata": {},
     "output_type": "execute_result"
    }
   ],
   "source": [
    "df['New_Status'].value_counts()"
   ]
  },
  {
   "cell_type": "code",
   "execution_count": 74,
   "metadata": {},
   "outputs": [],
   "source": [
    "Closed=1707;Open=517"
   ]
  },
  {
   "cell_type": "code",
   "execution_count": 75,
   "metadata": {},
   "outputs": [],
   "source": [
    "total=Closed+Open"
   ]
  },
  {
   "cell_type": "code",
   "execution_count": 76,
   "metadata": {},
   "outputs": [],
   "source": [
    "percentage_resolved_total=(Closed/total)*100"
   ]
  },
  {
   "cell_type": "code",
   "execution_count": 77,
   "metadata": {},
   "outputs": [
    {
     "data": {
      "text/plain": [
       "76.75359712230215"
      ]
     },
     "execution_count": 77,
     "metadata": {},
     "output_type": "execute_result"
    }
   ],
   "source": [
    "percentage_resolved_total"
   ]
  },
  {
   "cell_type": "markdown",
   "metadata": {},
   "source": [
    "Though finally we can see that the total percentage of resolved case are high but why so many complaints are being lodged has to be diagnosed at the very first place. And then accordingly steps should be taken to weed out the cause for complaints, thus providing better service to their customer base. "
   ]
  },
  {
   "cell_type": "code",
   "execution_count": null,
   "metadata": {},
   "outputs": [],
   "source": []
  },
  {
   "cell_type": "code",
   "execution_count": null,
   "metadata": {},
   "outputs": [],
   "source": []
  }
 ],
 "metadata": {
  "kernelspec": {
   "display_name": "Python 3",
   "language": "python",
   "name": "python3"
  },
  "language_info": {
   "codemirror_mode": {
    "name": "ipython",
    "version": 3
   },
   "file_extension": ".py",
   "mimetype": "text/x-python",
   "name": "python",
   "nbconvert_exporter": "python",
   "pygments_lexer": "ipython3",
   "version": "3.7.6"
  }
 },
 "nbformat": 4,
 "nbformat_minor": 4
}
